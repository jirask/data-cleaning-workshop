{
  "cells": [
    {
      "cell_type": "markdown",
      "metadata": {
        "id": "63Ik35dor26O"
      },
      "source": [
        "## We aim in this notebook to identify duplicates in a CSV containing information about students\n"
      ]
    },
    {
      "cell_type": "code",
      "execution_count": null,
      "metadata": {
        "colab": {
          "base_uri": "https://localhost:8080/"
        },
        "id": "c4WKsreAr26R",
        "outputId": "9286162b-6b30-468a-c0e5-535e1070949e"
      },
      "outputs": [
        {
          "output_type": "stream",
          "name": "stdout",
          "text": [
            "Looking in indexes: https://pypi.org/simple, https://us-python.pkg.dev/colab-wheels/public/simple/\n",
            "Requirement already satisfied: nltk in /usr/local/lib/python3.10/dist-packages (3.8.1)\n",
            "Requirement already satisfied: click in /usr/local/lib/python3.10/dist-packages (from nltk) (8.1.3)\n",
            "Requirement already satisfied: joblib in /usr/local/lib/python3.10/dist-packages (from nltk) (1.2.0)\n",
            "Requirement already satisfied: regex>=2021.8.3 in /usr/local/lib/python3.10/dist-packages (from nltk) (2022.10.31)\n",
            "Requirement already satisfied: tqdm in /usr/local/lib/python3.10/dist-packages (from nltk) (4.65.0)\n"
          ]
        }
      ],
      "source": [
        "pip install nltk"
      ]
    },
    {
      "cell_type": "code",
      "source": [
        "import sys\n",
        "!{sys.executable} -m pip install pandas-profiling\n"
      ],
      "metadata": {
        "id": "N_bTH7Hr-sXF",
        "colab": {
          "base_uri": "https://localhost:8080/"
        },
        "outputId": "68298c1c-5694-4707-e97a-93e70ec7ab20"
      },
      "execution_count": null,
      "outputs": [
        {
          "output_type": "stream",
          "name": "stdout",
          "text": [
            "Looking in indexes: https://pypi.org/simple, https://us-python.pkg.dev/colab-wheels/public/simple/\n",
            "Requirement already satisfied: pandas-profiling in /usr/local/lib/python3.10/dist-packages (3.6.6)\n",
            "Requirement already satisfied: ydata-profiling in /usr/local/lib/python3.10/dist-packages (from pandas-profiling) (4.2.0)\n",
            "Requirement already satisfied: scipy<1.11,>=1.4.1 in /usr/local/lib/python3.10/dist-packages (from ydata-profiling->pandas-profiling) (1.10.1)\n",
            "Requirement already satisfied: pandas!=1.4.0,<2,>1.1 in /usr/local/lib/python3.10/dist-packages (from ydata-profiling->pandas-profiling) (1.5.3)\n",
            "Requirement already satisfied: matplotlib<4,>=3.2 in /usr/local/lib/python3.10/dist-packages (from ydata-profiling->pandas-profiling) (3.7.1)\n",
            "Requirement already satisfied: pydantic<2,>=1.8.1 in /usr/local/lib/python3.10/dist-packages (from ydata-profiling->pandas-profiling) (1.10.7)\n",
            "Requirement already satisfied: PyYAML<6.1,>=5.0.0 in /usr/local/lib/python3.10/dist-packages (from ydata-profiling->pandas-profiling) (6.0)\n",
            "Requirement already satisfied: jinja2<3.2,>=2.11.1 in /usr/local/lib/python3.10/dist-packages (from ydata-profiling->pandas-profiling) (3.1.2)\n",
            "Requirement already satisfied: visions[type_image_path]==0.7.5 in /usr/local/lib/python3.10/dist-packages (from ydata-profiling->pandas-profiling) (0.7.5)\n",
            "Requirement already satisfied: numpy<1.24,>=1.16.0 in /usr/local/lib/python3.10/dist-packages (from ydata-profiling->pandas-profiling) (1.22.4)\n",
            "Requirement already satisfied: htmlmin==0.1.12 in /usr/local/lib/python3.10/dist-packages (from ydata-profiling->pandas-profiling) (0.1.12)\n",
            "Requirement already satisfied: phik<0.13,>=0.11.1 in /usr/local/lib/python3.10/dist-packages (from ydata-profiling->pandas-profiling) (0.12.3)\n",
            "Requirement already satisfied: requests<3,>=2.24.0 in /usr/local/lib/python3.10/dist-packages (from ydata-profiling->pandas-profiling) (2.27.1)\n",
            "Requirement already satisfied: tqdm<5,>=4.48.2 in /usr/local/lib/python3.10/dist-packages (from ydata-profiling->pandas-profiling) (4.65.0)\n",
            "Requirement already satisfied: seaborn<0.13,>=0.10.1 in /usr/local/lib/python3.10/dist-packages (from ydata-profiling->pandas-profiling) (0.12.2)\n",
            "Requirement already satisfied: multimethod<2,>=1.4 in /usr/local/lib/python3.10/dist-packages (from ydata-profiling->pandas-profiling) (1.9.1)\n",
            "Requirement already satisfied: statsmodels<1,>=0.13.2 in /usr/local/lib/python3.10/dist-packages (from ydata-profiling->pandas-profiling) (0.13.5)\n",
            "Requirement already satisfied: typeguard<3,>=2.13.2 in /usr/local/lib/python3.10/dist-packages (from ydata-profiling->pandas-profiling) (2.13.3)\n",
            "Requirement already satisfied: imagehash==4.3.1 in /usr/local/lib/python3.10/dist-packages (from ydata-profiling->pandas-profiling) (4.3.1)\n",
            "Requirement already satisfied: wordcloud>=1.9.1 in /usr/local/lib/python3.10/dist-packages (from ydata-profiling->pandas-profiling) (1.9.2)\n",
            "Requirement already satisfied: dacite>=1.8 in /usr/local/lib/python3.10/dist-packages (from ydata-profiling->pandas-profiling) (1.8.1)\n",
            "Requirement already satisfied: PyWavelets in /usr/local/lib/python3.10/dist-packages (from imagehash==4.3.1->ydata-profiling->pandas-profiling) (1.4.1)\n",
            "Requirement already satisfied: pillow in /usr/local/lib/python3.10/dist-packages (from imagehash==4.3.1->ydata-profiling->pandas-profiling) (8.4.0)\n",
            "Requirement already satisfied: attrs>=19.3.0 in /usr/local/lib/python3.10/dist-packages (from visions[type_image_path]==0.7.5->ydata-profiling->pandas-profiling) (23.1.0)\n",
            "Requirement already satisfied: networkx>=2.4 in /usr/local/lib/python3.10/dist-packages (from visions[type_image_path]==0.7.5->ydata-profiling->pandas-profiling) (3.1)\n",
            "Requirement already satisfied: tangled-up-in-unicode>=0.0.4 in /usr/local/lib/python3.10/dist-packages (from visions[type_image_path]==0.7.5->ydata-profiling->pandas-profiling) (0.2.0)\n",
            "Requirement already satisfied: MarkupSafe>=2.0 in /usr/local/lib/python3.10/dist-packages (from jinja2<3.2,>=2.11.1->ydata-profiling->pandas-profiling) (2.1.2)\n",
            "Requirement already satisfied: contourpy>=1.0.1 in /usr/local/lib/python3.10/dist-packages (from matplotlib<4,>=3.2->ydata-profiling->pandas-profiling) (1.0.7)\n",
            "Requirement already satisfied: cycler>=0.10 in /usr/local/lib/python3.10/dist-packages (from matplotlib<4,>=3.2->ydata-profiling->pandas-profiling) (0.11.0)\n",
            "Requirement already satisfied: fonttools>=4.22.0 in /usr/local/lib/python3.10/dist-packages (from matplotlib<4,>=3.2->ydata-profiling->pandas-profiling) (4.39.3)\n",
            "Requirement already satisfied: kiwisolver>=1.0.1 in /usr/local/lib/python3.10/dist-packages (from matplotlib<4,>=3.2->ydata-profiling->pandas-profiling) (1.4.4)\n",
            "Requirement already satisfied: packaging>=20.0 in /usr/local/lib/python3.10/dist-packages (from matplotlib<4,>=3.2->ydata-profiling->pandas-profiling) (23.1)\n",
            "Requirement already satisfied: pyparsing>=2.3.1 in /usr/local/lib/python3.10/dist-packages (from matplotlib<4,>=3.2->ydata-profiling->pandas-profiling) (3.0.9)\n",
            "Requirement already satisfied: python-dateutil>=2.7 in /usr/local/lib/python3.10/dist-packages (from matplotlib<4,>=3.2->ydata-profiling->pandas-profiling) (2.8.2)\n",
            "Requirement already satisfied: pytz>=2020.1 in /usr/local/lib/python3.10/dist-packages (from pandas!=1.4.0,<2,>1.1->ydata-profiling->pandas-profiling) (2022.7.1)\n",
            "Requirement already satisfied: joblib>=0.14.1 in /usr/local/lib/python3.10/dist-packages (from phik<0.13,>=0.11.1->ydata-profiling->pandas-profiling) (1.2.0)\n",
            "Requirement already satisfied: typing-extensions>=4.2.0 in /usr/local/lib/python3.10/dist-packages (from pydantic<2,>=1.8.1->ydata-profiling->pandas-profiling) (4.5.0)\n",
            "Requirement already satisfied: urllib3<1.27,>=1.21.1 in /usr/local/lib/python3.10/dist-packages (from requests<3,>=2.24.0->ydata-profiling->pandas-profiling) (1.26.15)\n",
            "Requirement already satisfied: certifi>=2017.4.17 in /usr/local/lib/python3.10/dist-packages (from requests<3,>=2.24.0->ydata-profiling->pandas-profiling) (2022.12.7)\n",
            "Requirement already satisfied: charset-normalizer~=2.0.0 in /usr/local/lib/python3.10/dist-packages (from requests<3,>=2.24.0->ydata-profiling->pandas-profiling) (2.0.12)\n",
            "Requirement already satisfied: idna<4,>=2.5 in /usr/local/lib/python3.10/dist-packages (from requests<3,>=2.24.0->ydata-profiling->pandas-profiling) (3.4)\n",
            "Requirement already satisfied: patsy>=0.5.2 in /usr/local/lib/python3.10/dist-packages (from statsmodels<1,>=0.13.2->ydata-profiling->pandas-profiling) (0.5.3)\n",
            "Requirement already satisfied: six in /usr/local/lib/python3.10/dist-packages (from patsy>=0.5.2->statsmodels<1,>=0.13.2->ydata-profiling->pandas-profiling) (1.16.0)\n"
          ]
        }
      ]
    },
    {
      "cell_type": "code",
      "execution_count": null,
      "metadata": {
        "id": "UrpmMPr5r26T"
      },
      "outputs": [],
      "source": [
        "import pandas as pd\n",
        "import nltk\n",
        "import time\n",
        "import numpy as np\n",
        "from scipy import stats\n"
      ]
    },
    {
      "cell_type": "code",
      "source": [
        "# from pandas_profiling import ProfileReport"
      ],
      "metadata": {
        "id": "1I0RWa3K-mbG"
      },
      "execution_count": null,
      "outputs": []
    },
    {
      "cell_type": "code",
      "execution_count": 102,
      "metadata": {
        "id": "YGRo4WkRr26T"
      },
      "outputs": [],
      "source": [
        "df_students = pd.read_csv(\"./etudiant.csv\")"
      ]
    },
    {
      "cell_type": "code",
      "source": [
        "df_students.head(5)"
      ],
      "metadata": {
        "colab": {
          "base_uri": "https://localhost:8080/",
          "height": 250
        },
        "id": "mGeljIAMvBKe",
        "outputId": "2a2ed21d-a925-4cce-8d1d-7ef82b0b29bc"
      },
      "execution_count": 103,
      "outputs": [
        {
          "output_type": "execute_result",
          "data": {
            "text/plain": [
              "  given_name      surname  street_number        address_1        address_2  \\\n",
              "0   matthwew        apted           18.0  atherton srteet  currumb in hill   \n",
              "1    william       badger            NaN    dwyer s treet          glenlee   \n",
              "2     connor       bailke          186.0     lambie place              NaN   \n",
              "3    kaitlin  goldsworthy           54.0              NaN              NaN   \n",
              "4     jasmyn         lowe           48.0     toohey place    grand ecntral   \n",
              "\n",
              "             suburb  postcode state  date_of_birth  soc_sec_id id record  \n",
              "0    port macquarie      3183   vic     19590825.0     9425976       B_0  \n",
              "1  west lakes shore      3291   nsw     19001210.0     4656608       B_1  \n",
              "2      port lincoln      7303   qld     19670529.0     4702335       B_2  \n",
              "3          thirroul      2035   nsw     19640517.0     9127277       B_3  \n",
              "4            bicton      3085   nsw     19320918.0     1430128       B_4  "
            ],
            "text/html": [
              "\n",
              "  <div id=\"df-63afbe5b-dd13-46fd-9d92-a5846e5ce939\">\n",
              "    <div class=\"colab-df-container\">\n",
              "      <div>\n",
              "<style scoped>\n",
              "    .dataframe tbody tr th:only-of-type {\n",
              "        vertical-align: middle;\n",
              "    }\n",
              "\n",
              "    .dataframe tbody tr th {\n",
              "        vertical-align: top;\n",
              "    }\n",
              "\n",
              "    .dataframe thead th {\n",
              "        text-align: right;\n",
              "    }\n",
              "</style>\n",
              "<table border=\"1\" class=\"dataframe\">\n",
              "  <thead>\n",
              "    <tr style=\"text-align: right;\">\n",
              "      <th></th>\n",
              "      <th>given_name</th>\n",
              "      <th>surname</th>\n",
              "      <th>street_number</th>\n",
              "      <th>address_1</th>\n",
              "      <th>address_2</th>\n",
              "      <th>suburb</th>\n",
              "      <th>postcode</th>\n",
              "      <th>state</th>\n",
              "      <th>date_of_birth</th>\n",
              "      <th>soc_sec_id</th>\n",
              "      <th>id record</th>\n",
              "    </tr>\n",
              "  </thead>\n",
              "  <tbody>\n",
              "    <tr>\n",
              "      <th>0</th>\n",
              "      <td>matthwew</td>\n",
              "      <td>apted</td>\n",
              "      <td>18.0</td>\n",
              "      <td>atherton srteet</td>\n",
              "      <td>currumb in hill</td>\n",
              "      <td>port macquarie</td>\n",
              "      <td>3183</td>\n",
              "      <td>vic</td>\n",
              "      <td>19590825.0</td>\n",
              "      <td>9425976</td>\n",
              "      <td>B_0</td>\n",
              "    </tr>\n",
              "    <tr>\n",
              "      <th>1</th>\n",
              "      <td>william</td>\n",
              "      <td>badger</td>\n",
              "      <td>NaN</td>\n",
              "      <td>dwyer s treet</td>\n",
              "      <td>glenlee</td>\n",
              "      <td>west lakes shore</td>\n",
              "      <td>3291</td>\n",
              "      <td>nsw</td>\n",
              "      <td>19001210.0</td>\n",
              "      <td>4656608</td>\n",
              "      <td>B_1</td>\n",
              "    </tr>\n",
              "    <tr>\n",
              "      <th>2</th>\n",
              "      <td>connor</td>\n",
              "      <td>bailke</td>\n",
              "      <td>186.0</td>\n",
              "      <td>lambie place</td>\n",
              "      <td>NaN</td>\n",
              "      <td>port lincoln</td>\n",
              "      <td>7303</td>\n",
              "      <td>qld</td>\n",
              "      <td>19670529.0</td>\n",
              "      <td>4702335</td>\n",
              "      <td>B_2</td>\n",
              "    </tr>\n",
              "    <tr>\n",
              "      <th>3</th>\n",
              "      <td>kaitlin</td>\n",
              "      <td>goldsworthy</td>\n",
              "      <td>54.0</td>\n",
              "      <td>NaN</td>\n",
              "      <td>NaN</td>\n",
              "      <td>thirroul</td>\n",
              "      <td>2035</td>\n",
              "      <td>nsw</td>\n",
              "      <td>19640517.0</td>\n",
              "      <td>9127277</td>\n",
              "      <td>B_3</td>\n",
              "    </tr>\n",
              "    <tr>\n",
              "      <th>4</th>\n",
              "      <td>jasmyn</td>\n",
              "      <td>lowe</td>\n",
              "      <td>48.0</td>\n",
              "      <td>toohey place</td>\n",
              "      <td>grand ecntral</td>\n",
              "      <td>bicton</td>\n",
              "      <td>3085</td>\n",
              "      <td>nsw</td>\n",
              "      <td>19320918.0</td>\n",
              "      <td>1430128</td>\n",
              "      <td>B_4</td>\n",
              "    </tr>\n",
              "  </tbody>\n",
              "</table>\n",
              "</div>\n",
              "      <button class=\"colab-df-convert\" onclick=\"convertToInteractive('df-63afbe5b-dd13-46fd-9d92-a5846e5ce939')\"\n",
              "              title=\"Convert this dataframe to an interactive table.\"\n",
              "              style=\"display:none;\">\n",
              "        \n",
              "  <svg xmlns=\"http://www.w3.org/2000/svg\" height=\"24px\"viewBox=\"0 0 24 24\"\n",
              "       width=\"24px\">\n",
              "    <path d=\"M0 0h24v24H0V0z\" fill=\"none\"/>\n",
              "    <path d=\"M18.56 5.44l.94 2.06.94-2.06 2.06-.94-2.06-.94-.94-2.06-.94 2.06-2.06.94zm-11 1L8.5 8.5l.94-2.06 2.06-.94-2.06-.94L8.5 2.5l-.94 2.06-2.06.94zm10 10l.94 2.06.94-2.06 2.06-.94-2.06-.94-.94-2.06-.94 2.06-2.06.94z\"/><path d=\"M17.41 7.96l-1.37-1.37c-.4-.4-.92-.59-1.43-.59-.52 0-1.04.2-1.43.59L10.3 9.45l-7.72 7.72c-.78.78-.78 2.05 0 2.83L4 21.41c.39.39.9.59 1.41.59.51 0 1.02-.2 1.41-.59l7.78-7.78 2.81-2.81c.8-.78.8-2.07 0-2.86zM5.41 20L4 18.59l7.72-7.72 1.47 1.35L5.41 20z\"/>\n",
              "  </svg>\n",
              "      </button>\n",
              "      \n",
              "  <style>\n",
              "    .colab-df-container {\n",
              "      display:flex;\n",
              "      flex-wrap:wrap;\n",
              "      gap: 12px;\n",
              "    }\n",
              "\n",
              "    .colab-df-convert {\n",
              "      background-color: #E8F0FE;\n",
              "      border: none;\n",
              "      border-radius: 50%;\n",
              "      cursor: pointer;\n",
              "      display: none;\n",
              "      fill: #1967D2;\n",
              "      height: 32px;\n",
              "      padding: 0 0 0 0;\n",
              "      width: 32px;\n",
              "    }\n",
              "\n",
              "    .colab-df-convert:hover {\n",
              "      background-color: #E2EBFA;\n",
              "      box-shadow: 0px 1px 2px rgba(60, 64, 67, 0.3), 0px 1px 3px 1px rgba(60, 64, 67, 0.15);\n",
              "      fill: #174EA6;\n",
              "    }\n",
              "\n",
              "    [theme=dark] .colab-df-convert {\n",
              "      background-color: #3B4455;\n",
              "      fill: #D2E3FC;\n",
              "    }\n",
              "\n",
              "    [theme=dark] .colab-df-convert:hover {\n",
              "      background-color: #434B5C;\n",
              "      box-shadow: 0px 1px 3px 1px rgba(0, 0, 0, 0.15);\n",
              "      filter: drop-shadow(0px 1px 2px rgba(0, 0, 0, 0.3));\n",
              "      fill: #FFFFFF;\n",
              "    }\n",
              "  </style>\n",
              "\n",
              "      <script>\n",
              "        const buttonEl =\n",
              "          document.querySelector('#df-63afbe5b-dd13-46fd-9d92-a5846e5ce939 button.colab-df-convert');\n",
              "        buttonEl.style.display =\n",
              "          google.colab.kernel.accessAllowed ? 'block' : 'none';\n",
              "\n",
              "        async function convertToInteractive(key) {\n",
              "          const element = document.querySelector('#df-63afbe5b-dd13-46fd-9d92-a5846e5ce939');\n",
              "          const dataTable =\n",
              "            await google.colab.kernel.invokeFunction('convertToInteractive',\n",
              "                                                     [key], {});\n",
              "          if (!dataTable) return;\n",
              "\n",
              "          const docLinkHtml = 'Like what you see? Visit the ' +\n",
              "            '<a target=\"_blank\" href=https://colab.research.google.com/notebooks/data_table.ipynb>data table notebook</a>'\n",
              "            + ' to learn more about interactive tables.';\n",
              "          element.innerHTML = '';\n",
              "          dataTable['output_type'] = 'display_data';\n",
              "          await google.colab.output.renderOutput(dataTable, element);\n",
              "          const docLink = document.createElement('div');\n",
              "          docLink.innerHTML = docLinkHtml;\n",
              "          element.appendChild(docLink);\n",
              "        }\n",
              "      </script>\n",
              "    </div>\n",
              "  </div>\n",
              "  "
            ]
          },
          "metadata": {},
          "execution_count": 103
        }
      ]
    },
    {
      "cell_type": "code",
      "source": [
        "df_students.columns"
      ],
      "metadata": {
        "colab": {
          "base_uri": "https://localhost:8080/",
          "height": 0
        },
        "id": "mBVVkeBhuYQa",
        "outputId": "928adfd0-57a3-499d-f054-e7b67ee46d29"
      },
      "execution_count": 104,
      "outputs": [
        {
          "output_type": "execute_result",
          "data": {
            "text/plain": [
              "Index(['given_name', 'surname', 'street_number', 'address_1', 'address_2',\n",
              "       'suburb', 'postcode', 'state', 'date_of_birth', 'soc_sec_id',\n",
              "       'id record'],\n",
              "      dtype='object')"
            ]
          },
          "metadata": {},
          "execution_count": 104
        }
      ]
    },
    {
      "cell_type": "code",
      "source": [
        "df_students = df_students.rename(columns={\"id record\": \"record_ID\"})\n"
      ],
      "metadata": {
        "id": "WdgMLCnEu0CG"
      },
      "execution_count": 105,
      "outputs": []
    },
    {
      "cell_type": "code",
      "source": [
        "# prof = ProfileReport(df_students)\n",
        "# prof.to_file(output_file='rapport.html')"
      ],
      "metadata": {
        "id": "J-GhVlOmXP_2"
      },
      "execution_count": 106,
      "outputs": []
    },
    {
      "cell_type": "code",
      "source": [
        "df_students[(df_students.surname == 'lowe') & (df_students.given_name=='jasmyn')]"
      ],
      "metadata": {
        "colab": {
          "base_uri": "https://localhost:8080/",
          "height": 143
        },
        "id": "IhtlHpajSAQI",
        "outputId": "86ccafd3-b971-4602-dc57-9dde907f0d60"
      },
      "execution_count": 107,
      "outputs": [
        {
          "output_type": "execute_result",
          "data": {
            "text/plain": [
              "     given_name surname  street_number     address_1      address_2  suburb  \\\n",
              "4        jasmyn    lowe           48.0  toohey place  grand ecntral  bicton   \n",
              "1490     jasmyn    lowe           48.0  toohey place  grand ecntral  bicton   \n",
              "2341     jasmyn    lowe           48.0  toohey place  grand ecntral  bicton   \n",
              "\n",
              "      postcode state  date_of_birth  soc_sec_id record_ID  \n",
              "4         3085   nsw     19320918.0     1430128       B_4  \n",
              "1490      3085   nsw     19320918.0     1430128    B_1490  \n",
              "2341      3085    sw     19320918.0     1430128    B_2341  "
            ],
            "text/html": [
              "\n",
              "  <div id=\"df-b2e0bb24-792c-404f-ae27-efd1f55ef6d8\">\n",
              "    <div class=\"colab-df-container\">\n",
              "      <div>\n",
              "<style scoped>\n",
              "    .dataframe tbody tr th:only-of-type {\n",
              "        vertical-align: middle;\n",
              "    }\n",
              "\n",
              "    .dataframe tbody tr th {\n",
              "        vertical-align: top;\n",
              "    }\n",
              "\n",
              "    .dataframe thead th {\n",
              "        text-align: right;\n",
              "    }\n",
              "</style>\n",
              "<table border=\"1\" class=\"dataframe\">\n",
              "  <thead>\n",
              "    <tr style=\"text-align: right;\">\n",
              "      <th></th>\n",
              "      <th>given_name</th>\n",
              "      <th>surname</th>\n",
              "      <th>street_number</th>\n",
              "      <th>address_1</th>\n",
              "      <th>address_2</th>\n",
              "      <th>suburb</th>\n",
              "      <th>postcode</th>\n",
              "      <th>state</th>\n",
              "      <th>date_of_birth</th>\n",
              "      <th>soc_sec_id</th>\n",
              "      <th>record_ID</th>\n",
              "    </tr>\n",
              "  </thead>\n",
              "  <tbody>\n",
              "    <tr>\n",
              "      <th>4</th>\n",
              "      <td>jasmyn</td>\n",
              "      <td>lowe</td>\n",
              "      <td>48.0</td>\n",
              "      <td>toohey place</td>\n",
              "      <td>grand ecntral</td>\n",
              "      <td>bicton</td>\n",
              "      <td>3085</td>\n",
              "      <td>nsw</td>\n",
              "      <td>19320918.0</td>\n",
              "      <td>1430128</td>\n",
              "      <td>B_4</td>\n",
              "    </tr>\n",
              "    <tr>\n",
              "      <th>1490</th>\n",
              "      <td>jasmyn</td>\n",
              "      <td>lowe</td>\n",
              "      <td>48.0</td>\n",
              "      <td>toohey place</td>\n",
              "      <td>grand ecntral</td>\n",
              "      <td>bicton</td>\n",
              "      <td>3085</td>\n",
              "      <td>nsw</td>\n",
              "      <td>19320918.0</td>\n",
              "      <td>1430128</td>\n",
              "      <td>B_1490</td>\n",
              "    </tr>\n",
              "    <tr>\n",
              "      <th>2341</th>\n",
              "      <td>jasmyn</td>\n",
              "      <td>lowe</td>\n",
              "      <td>48.0</td>\n",
              "      <td>toohey place</td>\n",
              "      <td>grand ecntral</td>\n",
              "      <td>bicton</td>\n",
              "      <td>3085</td>\n",
              "      <td>sw</td>\n",
              "      <td>19320918.0</td>\n",
              "      <td>1430128</td>\n",
              "      <td>B_2341</td>\n",
              "    </tr>\n",
              "  </tbody>\n",
              "</table>\n",
              "</div>\n",
              "      <button class=\"colab-df-convert\" onclick=\"convertToInteractive('df-b2e0bb24-792c-404f-ae27-efd1f55ef6d8')\"\n",
              "              title=\"Convert this dataframe to an interactive table.\"\n",
              "              style=\"display:none;\">\n",
              "        \n",
              "  <svg xmlns=\"http://www.w3.org/2000/svg\" height=\"24px\"viewBox=\"0 0 24 24\"\n",
              "       width=\"24px\">\n",
              "    <path d=\"M0 0h24v24H0V0z\" fill=\"none\"/>\n",
              "    <path d=\"M18.56 5.44l.94 2.06.94-2.06 2.06-.94-2.06-.94-.94-2.06-.94 2.06-2.06.94zm-11 1L8.5 8.5l.94-2.06 2.06-.94-2.06-.94L8.5 2.5l-.94 2.06-2.06.94zm10 10l.94 2.06.94-2.06 2.06-.94-2.06-.94-.94-2.06-.94 2.06-2.06.94z\"/><path d=\"M17.41 7.96l-1.37-1.37c-.4-.4-.92-.59-1.43-.59-.52 0-1.04.2-1.43.59L10.3 9.45l-7.72 7.72c-.78.78-.78 2.05 0 2.83L4 21.41c.39.39.9.59 1.41.59.51 0 1.02-.2 1.41-.59l7.78-7.78 2.81-2.81c.8-.78.8-2.07 0-2.86zM5.41 20L4 18.59l7.72-7.72 1.47 1.35L5.41 20z\"/>\n",
              "  </svg>\n",
              "      </button>\n",
              "      \n",
              "  <style>\n",
              "    .colab-df-container {\n",
              "      display:flex;\n",
              "      flex-wrap:wrap;\n",
              "      gap: 12px;\n",
              "    }\n",
              "\n",
              "    .colab-df-convert {\n",
              "      background-color: #E8F0FE;\n",
              "      border: none;\n",
              "      border-radius: 50%;\n",
              "      cursor: pointer;\n",
              "      display: none;\n",
              "      fill: #1967D2;\n",
              "      height: 32px;\n",
              "      padding: 0 0 0 0;\n",
              "      width: 32px;\n",
              "    }\n",
              "\n",
              "    .colab-df-convert:hover {\n",
              "      background-color: #E2EBFA;\n",
              "      box-shadow: 0px 1px 2px rgba(60, 64, 67, 0.3), 0px 1px 3px 1px rgba(60, 64, 67, 0.15);\n",
              "      fill: #174EA6;\n",
              "    }\n",
              "\n",
              "    [theme=dark] .colab-df-convert {\n",
              "      background-color: #3B4455;\n",
              "      fill: #D2E3FC;\n",
              "    }\n",
              "\n",
              "    [theme=dark] .colab-df-convert:hover {\n",
              "      background-color: #434B5C;\n",
              "      box-shadow: 0px 1px 3px 1px rgba(0, 0, 0, 0.15);\n",
              "      filter: drop-shadow(0px 1px 2px rgba(0, 0, 0, 0.3));\n",
              "      fill: #FFFFFF;\n",
              "    }\n",
              "  </style>\n",
              "\n",
              "      <script>\n",
              "        const buttonEl =\n",
              "          document.querySelector('#df-b2e0bb24-792c-404f-ae27-efd1f55ef6d8 button.colab-df-convert');\n",
              "        buttonEl.style.display =\n",
              "          google.colab.kernel.accessAllowed ? 'block' : 'none';\n",
              "\n",
              "        async function convertToInteractive(key) {\n",
              "          const element = document.querySelector('#df-b2e0bb24-792c-404f-ae27-efd1f55ef6d8');\n",
              "          const dataTable =\n",
              "            await google.colab.kernel.invokeFunction('convertToInteractive',\n",
              "                                                     [key], {});\n",
              "          if (!dataTable) return;\n",
              "\n",
              "          const docLinkHtml = 'Like what you see? Visit the ' +\n",
              "            '<a target=\"_blank\" href=https://colab.research.google.com/notebooks/data_table.ipynb>data table notebook</a>'\n",
              "            + ' to learn more about interactive tables.';\n",
              "          element.innerHTML = '';\n",
              "          dataTable['output_type'] = 'display_data';\n",
              "          await google.colab.output.renderOutput(dataTable, element);\n",
              "          const docLink = document.createElement('div');\n",
              "          docLink.innerHTML = docLinkHtml;\n",
              "          element.appendChild(docLink);\n",
              "        }\n",
              "      </script>\n",
              "    </div>\n",
              "  </div>\n",
              "  "
            ]
          },
          "metadata": {},
          "execution_count": 107
        }
      ]
    },
    {
      "cell_type": "markdown",
      "source": [
        "Here I took a random person's to see if they have a duplicate record. We can see in this case we have two duplicates, one of which has a typo in the state.  "
      ],
      "metadata": {
        "id": "7Bp1VhwkzZpG"
      }
    },
    {
      "cell_type": "code",
      "source": [
        "df_students.info()"
      ],
      "metadata": {
        "colab": {
          "base_uri": "https://localhost:8080/",
          "height": 0
        },
        "id": "-6Vas9VuYc4a",
        "outputId": "08780845-67af-4005-893d-ade0814f78dd"
      },
      "execution_count": 108,
      "outputs": [
        {
          "output_type": "stream",
          "name": "stdout",
          "text": [
            "<class 'pandas.core.frame.DataFrame'>\n",
            "RangeIndex: 24940 entries, 0 to 24939\n",
            "Data columns (total 11 columns):\n",
            " #   Column         Non-Null Count  Dtype  \n",
            "---  ------         --------------  -----  \n",
            " 0   given_name     23752 non-null  object \n",
            " 1   surname        24412 non-null  object \n",
            " 2   street_number  23482 non-null  float64\n",
            " 3   address_1      23878 non-null  object \n",
            " 4   address_2      20698 non-null  object \n",
            " 5   suburb         24408 non-null  object \n",
            " 6   postcode       24940 non-null  int64  \n",
            " 7   state          24414 non-null  object \n",
            " 8   date_of_birth  23932 non-null  float64\n",
            " 9   soc_sec_id     24940 non-null  int64  \n",
            " 10  record_ID      24940 non-null  object \n",
            "dtypes: float64(2), int64(2), object(7)\n",
            "memory usage: 2.1+ MB\n"
          ]
        }
      ]
    },
    {
      "cell_type": "code",
      "source": [
        "df_students['date_of_birth'] = pd.to_datetime(df_students['date_of_birth'], format='%Y%m%d', errors='coerce')"
      ],
      "metadata": {
        "id": "2WGdYcUrrPMH"
      },
      "execution_count": 109,
      "outputs": []
    },
    {
      "cell_type": "code",
      "source": [
        "df_students['birthyear'] = df_students['date_of_birth'].dt.strftime('%Y').astype(float) ##This will be used later in the blocking part"
      ],
      "metadata": {
        "id": "lqsEdc1lmFOe"
      },
      "execution_count": 110,
      "outputs": []
    },
    {
      "cell_type": "code",
      "source": [
        "df_students['birthyear'].median()"
      ],
      "metadata": {
        "colab": {
          "base_uri": "https://localhost:8080/",
          "height": 0
        },
        "id": "AKZZsL5y_FyT",
        "outputId": "6fbdd201-b456-4647-cd84-7a328cda0d88"
      },
      "execution_count": 111,
      "outputs": [
        {
          "output_type": "execute_result",
          "data": {
            "text/plain": [
              "1949.0"
            ]
          },
          "metadata": {},
          "execution_count": 111
        }
      ]
    },
    {
      "cell_type": "code",
      "source": [
        "df_students[df_students['birthyear'].isna()]"
      ],
      "metadata": {
        "colab": {
          "base_uri": "https://localhost:8080/",
          "height": 557
        },
        "id": "YFKt4P67E86F",
        "outputId": "3d25018b-fa78-4f9d-ed78-2f0ef57a6e50"
      },
      "execution_count": 112,
      "outputs": [
        {
          "output_type": "execute_result",
          "data": {
            "text/plain": [
              "      given_name   surname  street_number            address_1  \\\n",
              "23         tylee  berryman          223.0          broad place   \n",
              "30          adam   clarkde            3.0        skinnerstreet   \n",
              "82       michadl  richmond            7.0  tanumbiriniu street   \n",
              "83          tara     green           25.0           lashbrooke   \n",
              "92          john   cosenza           54.0     wentworth avenue   \n",
              "...          ...       ...            ...                  ...   \n",
              "24808       kira      reid            6.0              section   \n",
              "24822        jsk   stanbur           25.0         de vis place   \n",
              "24848      amber      reid            3.0         hedleystreet   \n",
              "24867        jsk   stanbur           25.0         de vis place   \n",
              "24908        NaN   campton           31.0      kennewellp lace   \n",
              "\n",
              "                 address_2        suburb  postcode state date_of_birth  \\\n",
              "23                 villai3       clayton      6355   vic           NaT   \n",
              "30                    kona     woodcroft      4878    wa           NaT   \n",
              "82     professional centre     bundaberg      3020    sa           NaT   \n",
              "83          chisholmstreet  boyne island      3073   nsw           NaT   \n",
              "92           stoneyq creek      st kilda      4035   NaN           NaT   \n",
              "...                    ...           ...       ...   ...           ...   \n",
              "24808        saltash place      noth yde      2098    wa           NaT   \n",
              "24822         kersley mews    koorawatha      4074   qld           NaT   \n",
              "24848            westehram    bibra lake      6108   vin           NaT   \n",
              "24867         kersley mews    koorawatha      4074   qld           NaT   \n",
              "24908          palms lodge    coolbellup      4711   nsw           NaT   \n",
              "\n",
              "       soc_sec_id record_ID  birthyear  \n",
              "23        2531288      B_23        NaN  \n",
              "30        7112414      B_30        NaN  \n",
              "82        6836733      B_82        NaN  \n",
              "83        1388911      B_83        NaN  \n",
              "92        5193596      B_92        NaN  \n",
              "...           ...       ...        ...  \n",
              "24808     9065074   B_24808        NaN  \n",
              "24822     7301101   B_24822        NaN  \n",
              "24848     9481816   B_24848        NaN  \n",
              "24867     7301101   B_24867        NaN  \n",
              "24908     2809212   B_24908        NaN  \n",
              "\n",
              "[1361 rows x 12 columns]"
            ],
            "text/html": [
              "\n",
              "  <div id=\"df-9a547c0b-6fe0-4c3c-a94c-8c85590e894b\">\n",
              "    <div class=\"colab-df-container\">\n",
              "      <div>\n",
              "<style scoped>\n",
              "    .dataframe tbody tr th:only-of-type {\n",
              "        vertical-align: middle;\n",
              "    }\n",
              "\n",
              "    .dataframe tbody tr th {\n",
              "        vertical-align: top;\n",
              "    }\n",
              "\n",
              "    .dataframe thead th {\n",
              "        text-align: right;\n",
              "    }\n",
              "</style>\n",
              "<table border=\"1\" class=\"dataframe\">\n",
              "  <thead>\n",
              "    <tr style=\"text-align: right;\">\n",
              "      <th></th>\n",
              "      <th>given_name</th>\n",
              "      <th>surname</th>\n",
              "      <th>street_number</th>\n",
              "      <th>address_1</th>\n",
              "      <th>address_2</th>\n",
              "      <th>suburb</th>\n",
              "      <th>postcode</th>\n",
              "      <th>state</th>\n",
              "      <th>date_of_birth</th>\n",
              "      <th>soc_sec_id</th>\n",
              "      <th>record_ID</th>\n",
              "      <th>birthyear</th>\n",
              "    </tr>\n",
              "  </thead>\n",
              "  <tbody>\n",
              "    <tr>\n",
              "      <th>23</th>\n",
              "      <td>tylee</td>\n",
              "      <td>berryman</td>\n",
              "      <td>223.0</td>\n",
              "      <td>broad place</td>\n",
              "      <td>villai3</td>\n",
              "      <td>clayton</td>\n",
              "      <td>6355</td>\n",
              "      <td>vic</td>\n",
              "      <td>NaT</td>\n",
              "      <td>2531288</td>\n",
              "      <td>B_23</td>\n",
              "      <td>NaN</td>\n",
              "    </tr>\n",
              "    <tr>\n",
              "      <th>30</th>\n",
              "      <td>adam</td>\n",
              "      <td>clarkde</td>\n",
              "      <td>3.0</td>\n",
              "      <td>skinnerstreet</td>\n",
              "      <td>kona</td>\n",
              "      <td>woodcroft</td>\n",
              "      <td>4878</td>\n",
              "      <td>wa</td>\n",
              "      <td>NaT</td>\n",
              "      <td>7112414</td>\n",
              "      <td>B_30</td>\n",
              "      <td>NaN</td>\n",
              "    </tr>\n",
              "    <tr>\n",
              "      <th>82</th>\n",
              "      <td>michadl</td>\n",
              "      <td>richmond</td>\n",
              "      <td>7.0</td>\n",
              "      <td>tanumbiriniu street</td>\n",
              "      <td>professional centre</td>\n",
              "      <td>bundaberg</td>\n",
              "      <td>3020</td>\n",
              "      <td>sa</td>\n",
              "      <td>NaT</td>\n",
              "      <td>6836733</td>\n",
              "      <td>B_82</td>\n",
              "      <td>NaN</td>\n",
              "    </tr>\n",
              "    <tr>\n",
              "      <th>83</th>\n",
              "      <td>tara</td>\n",
              "      <td>green</td>\n",
              "      <td>25.0</td>\n",
              "      <td>lashbrooke</td>\n",
              "      <td>chisholmstreet</td>\n",
              "      <td>boyne island</td>\n",
              "      <td>3073</td>\n",
              "      <td>nsw</td>\n",
              "      <td>NaT</td>\n",
              "      <td>1388911</td>\n",
              "      <td>B_83</td>\n",
              "      <td>NaN</td>\n",
              "    </tr>\n",
              "    <tr>\n",
              "      <th>92</th>\n",
              "      <td>john</td>\n",
              "      <td>cosenza</td>\n",
              "      <td>54.0</td>\n",
              "      <td>wentworth avenue</td>\n",
              "      <td>stoneyq creek</td>\n",
              "      <td>st kilda</td>\n",
              "      <td>4035</td>\n",
              "      <td>NaN</td>\n",
              "      <td>NaT</td>\n",
              "      <td>5193596</td>\n",
              "      <td>B_92</td>\n",
              "      <td>NaN</td>\n",
              "    </tr>\n",
              "    <tr>\n",
              "      <th>...</th>\n",
              "      <td>...</td>\n",
              "      <td>...</td>\n",
              "      <td>...</td>\n",
              "      <td>...</td>\n",
              "      <td>...</td>\n",
              "      <td>...</td>\n",
              "      <td>...</td>\n",
              "      <td>...</td>\n",
              "      <td>...</td>\n",
              "      <td>...</td>\n",
              "      <td>...</td>\n",
              "      <td>...</td>\n",
              "    </tr>\n",
              "    <tr>\n",
              "      <th>24808</th>\n",
              "      <td>kira</td>\n",
              "      <td>reid</td>\n",
              "      <td>6.0</td>\n",
              "      <td>section</td>\n",
              "      <td>saltash place</td>\n",
              "      <td>noth yde</td>\n",
              "      <td>2098</td>\n",
              "      <td>wa</td>\n",
              "      <td>NaT</td>\n",
              "      <td>9065074</td>\n",
              "      <td>B_24808</td>\n",
              "      <td>NaN</td>\n",
              "    </tr>\n",
              "    <tr>\n",
              "      <th>24822</th>\n",
              "      <td>jsk</td>\n",
              "      <td>stanbur</td>\n",
              "      <td>25.0</td>\n",
              "      <td>de vis place</td>\n",
              "      <td>kersley mews</td>\n",
              "      <td>koorawatha</td>\n",
              "      <td>4074</td>\n",
              "      <td>qld</td>\n",
              "      <td>NaT</td>\n",
              "      <td>7301101</td>\n",
              "      <td>B_24822</td>\n",
              "      <td>NaN</td>\n",
              "    </tr>\n",
              "    <tr>\n",
              "      <th>24848</th>\n",
              "      <td>amber</td>\n",
              "      <td>reid</td>\n",
              "      <td>3.0</td>\n",
              "      <td>hedleystreet</td>\n",
              "      <td>westehram</td>\n",
              "      <td>bibra lake</td>\n",
              "      <td>6108</td>\n",
              "      <td>vin</td>\n",
              "      <td>NaT</td>\n",
              "      <td>9481816</td>\n",
              "      <td>B_24848</td>\n",
              "      <td>NaN</td>\n",
              "    </tr>\n",
              "    <tr>\n",
              "      <th>24867</th>\n",
              "      <td>jsk</td>\n",
              "      <td>stanbur</td>\n",
              "      <td>25.0</td>\n",
              "      <td>de vis place</td>\n",
              "      <td>kersley mews</td>\n",
              "      <td>koorawatha</td>\n",
              "      <td>4074</td>\n",
              "      <td>qld</td>\n",
              "      <td>NaT</td>\n",
              "      <td>7301101</td>\n",
              "      <td>B_24867</td>\n",
              "      <td>NaN</td>\n",
              "    </tr>\n",
              "    <tr>\n",
              "      <th>24908</th>\n",
              "      <td>NaN</td>\n",
              "      <td>campton</td>\n",
              "      <td>31.0</td>\n",
              "      <td>kennewellp lace</td>\n",
              "      <td>palms lodge</td>\n",
              "      <td>coolbellup</td>\n",
              "      <td>4711</td>\n",
              "      <td>nsw</td>\n",
              "      <td>NaT</td>\n",
              "      <td>2809212</td>\n",
              "      <td>B_24908</td>\n",
              "      <td>NaN</td>\n",
              "    </tr>\n",
              "  </tbody>\n",
              "</table>\n",
              "<p>1361 rows × 12 columns</p>\n",
              "</div>\n",
              "      <button class=\"colab-df-convert\" onclick=\"convertToInteractive('df-9a547c0b-6fe0-4c3c-a94c-8c85590e894b')\"\n",
              "              title=\"Convert this dataframe to an interactive table.\"\n",
              "              style=\"display:none;\">\n",
              "        \n",
              "  <svg xmlns=\"http://www.w3.org/2000/svg\" height=\"24px\"viewBox=\"0 0 24 24\"\n",
              "       width=\"24px\">\n",
              "    <path d=\"M0 0h24v24H0V0z\" fill=\"none\"/>\n",
              "    <path d=\"M18.56 5.44l.94 2.06.94-2.06 2.06-.94-2.06-.94-.94-2.06-.94 2.06-2.06.94zm-11 1L8.5 8.5l.94-2.06 2.06-.94-2.06-.94L8.5 2.5l-.94 2.06-2.06.94zm10 10l.94 2.06.94-2.06 2.06-.94-2.06-.94-.94-2.06-.94 2.06-2.06.94z\"/><path d=\"M17.41 7.96l-1.37-1.37c-.4-.4-.92-.59-1.43-.59-.52 0-1.04.2-1.43.59L10.3 9.45l-7.72 7.72c-.78.78-.78 2.05 0 2.83L4 21.41c.39.39.9.59 1.41.59.51 0 1.02-.2 1.41-.59l7.78-7.78 2.81-2.81c.8-.78.8-2.07 0-2.86zM5.41 20L4 18.59l7.72-7.72 1.47 1.35L5.41 20z\"/>\n",
              "  </svg>\n",
              "      </button>\n",
              "      \n",
              "  <style>\n",
              "    .colab-df-container {\n",
              "      display:flex;\n",
              "      flex-wrap:wrap;\n",
              "      gap: 12px;\n",
              "    }\n",
              "\n",
              "    .colab-df-convert {\n",
              "      background-color: #E8F0FE;\n",
              "      border: none;\n",
              "      border-radius: 50%;\n",
              "      cursor: pointer;\n",
              "      display: none;\n",
              "      fill: #1967D2;\n",
              "      height: 32px;\n",
              "      padding: 0 0 0 0;\n",
              "      width: 32px;\n",
              "    }\n",
              "\n",
              "    .colab-df-convert:hover {\n",
              "      background-color: #E2EBFA;\n",
              "      box-shadow: 0px 1px 2px rgba(60, 64, 67, 0.3), 0px 1px 3px 1px rgba(60, 64, 67, 0.15);\n",
              "      fill: #174EA6;\n",
              "    }\n",
              "\n",
              "    [theme=dark] .colab-df-convert {\n",
              "      background-color: #3B4455;\n",
              "      fill: #D2E3FC;\n",
              "    }\n",
              "\n",
              "    [theme=dark] .colab-df-convert:hover {\n",
              "      background-color: #434B5C;\n",
              "      box-shadow: 0px 1px 3px 1px rgba(0, 0, 0, 0.15);\n",
              "      filter: drop-shadow(0px 1px 2px rgba(0, 0, 0, 0.3));\n",
              "      fill: #FFFFFF;\n",
              "    }\n",
              "  </style>\n",
              "\n",
              "      <script>\n",
              "        const buttonEl =\n",
              "          document.querySelector('#df-9a547c0b-6fe0-4c3c-a94c-8c85590e894b button.colab-df-convert');\n",
              "        buttonEl.style.display =\n",
              "          google.colab.kernel.accessAllowed ? 'block' : 'none';\n",
              "\n",
              "        async function convertToInteractive(key) {\n",
              "          const element = document.querySelector('#df-9a547c0b-6fe0-4c3c-a94c-8c85590e894b');\n",
              "          const dataTable =\n",
              "            await google.colab.kernel.invokeFunction('convertToInteractive',\n",
              "                                                     [key], {});\n",
              "          if (!dataTable) return;\n",
              "\n",
              "          const docLinkHtml = 'Like what you see? Visit the ' +\n",
              "            '<a target=\"_blank\" href=https://colab.research.google.com/notebooks/data_table.ipynb>data table notebook</a>'\n",
              "            + ' to learn more about interactive tables.';\n",
              "          element.innerHTML = '';\n",
              "          dataTable['output_type'] = 'display_data';\n",
              "          await google.colab.output.renderOutput(dataTable, element);\n",
              "          const docLink = document.createElement('div');\n",
              "          docLink.innerHTML = docLinkHtml;\n",
              "          element.appendChild(docLink);\n",
              "        }\n",
              "      </script>\n",
              "    </div>\n",
              "  </div>\n",
              "  "
            ]
          },
          "metadata": {},
          "execution_count": 112
        }
      ]
    },
    {
      "cell_type": "code",
      "source": [
        "df_students['birthyear']= df_students['birthyear'].fillna(df_students['birthyear'].median())\n"
      ],
      "metadata": {
        "id": "WKq0Q-ot_Nsf"
      },
      "execution_count": 113,
      "outputs": []
    },
    {
      "cell_type": "code",
      "source": [
        "len(df_students[df_students['birthyear'].isna()])"
      ],
      "metadata": {
        "colab": {
          "base_uri": "https://localhost:8080/",
          "height": 0
        },
        "id": "tiG9IpiKFG1s",
        "outputId": "453c8c05-a4a0-4156-ffe6-696b2e44ad74"
      },
      "execution_count": 114,
      "outputs": [
        {
          "output_type": "execute_result",
          "data": {
            "text/plain": [
              "0"
            ]
          },
          "metadata": {},
          "execution_count": 114
        }
      ]
    },
    {
      "cell_type": "code",
      "source": [
        "df_students.info()"
      ],
      "metadata": {
        "colab": {
          "base_uri": "https://localhost:8080/",
          "height": 0
        },
        "id": "eBFannDQ_VRv",
        "outputId": "dd86d748-d108-4e2b-ff48-990fd23eefac"
      },
      "execution_count": 115,
      "outputs": [
        {
          "output_type": "stream",
          "name": "stdout",
          "text": [
            "<class 'pandas.core.frame.DataFrame'>\n",
            "RangeIndex: 24940 entries, 0 to 24939\n",
            "Data columns (total 12 columns):\n",
            " #   Column         Non-Null Count  Dtype         \n",
            "---  ------         --------------  -----         \n",
            " 0   given_name     23752 non-null  object        \n",
            " 1   surname        24412 non-null  object        \n",
            " 2   street_number  23482 non-null  float64       \n",
            " 3   address_1      23878 non-null  object        \n",
            " 4   address_2      20698 non-null  object        \n",
            " 5   suburb         24408 non-null  object        \n",
            " 6   postcode       24940 non-null  int64         \n",
            " 7   state          24414 non-null  object        \n",
            " 8   date_of_birth  23579 non-null  datetime64[ns]\n",
            " 9   soc_sec_id     24940 non-null  int64         \n",
            " 10  record_ID      24940 non-null  object        \n",
            " 11  birthyear      24940 non-null  float64       \n",
            "dtypes: datetime64[ns](1), float64(2), int64(2), object(7)\n",
            "memory usage: 2.3+ MB\n"
          ]
        }
      ]
    },
    {
      "cell_type": "code",
      "source": [
        "len(df_students.state.unique())"
      ],
      "metadata": {
        "colab": {
          "base_uri": "https://localhost:8080/",
          "height": 0
        },
        "id": "v8sv4EfEtrWr",
        "outputId": "329028c9-a8e6-41ee-b9f2-7b60d6517c7e"
      },
      "execution_count": 116,
      "outputs": [
        {
          "output_type": "execute_result",
          "data": {
            "text/plain": [
              "270"
            ]
          },
          "metadata": {},
          "execution_count": 116
        }
      ]
    },
    {
      "cell_type": "markdown",
      "source": [
        "The data is for australian students. However, the number of states is much higher than the actual number of states in Australia.\n",
        "We have a few issues with the state column:\n",
        "\n",
        "*   typos\n",
        "*   postcodes that are not coherant with the states \n",
        "*   null values\n",
        "\n",
        "To resolve this issue, we used the Australian [postcode-state database](https://www.matthewproctor.com/australian_postcodes#downloadlinks) to match the existing postcodes with the corresponding states. "
      ],
      "metadata": {
        "id": "Q-USnQ2hbHvC"
      }
    },
    {
      "cell_type": "code",
      "source": [
        "df_australia = pd.read_csv(\"./australian_postcodes.csv\")"
      ],
      "metadata": {
        "id": "-MvT4LymcAEG"
      },
      "execution_count": 117,
      "outputs": []
    },
    {
      "cell_type": "code",
      "source": [
        "df_australia.info()"
      ],
      "metadata": {
        "colab": {
          "base_uri": "https://localhost:8080/",
          "height": 0
        },
        "id": "OLTCircvP5PN",
        "outputId": "f3b0899c-c1ee-4907-f382-36c94ddb62ad"
      },
      "execution_count": 118,
      "outputs": [
        {
          "output_type": "stream",
          "name": "stdout",
          "text": [
            "<class 'pandas.core.frame.DataFrame'>\n",
            "RangeIndex: 18513 entries, 0 to 18512\n",
            "Data columns (total 37 columns):\n",
            " #   Column             Non-Null Count  Dtype  \n",
            "---  ------             --------------  -----  \n",
            " 0   id                 18513 non-null  int64  \n",
            " 1   postcode           18513 non-null  int64  \n",
            " 2   locality           18513 non-null  object \n",
            " 3   state              18513 non-null  object \n",
            " 4   long               18513 non-null  float64\n",
            " 5   lat                18513 non-null  float64\n",
            " 6   dc                 17924 non-null  object \n",
            " 7   type               16879 non-null  object \n",
            " 8   status             18485 non-null  object \n",
            " 9   sa3                18380 non-null  float64\n",
            " 10  sa3name            18380 non-null  object \n",
            " 11  sa4                18380 non-null  float64\n",
            " 12  sa4name            18380 non-null  object \n",
            " 13  region             18513 non-null  object \n",
            " 14  Lat_precise        18513 non-null  float64\n",
            " 15  Long_precise       18513 non-null  float64\n",
            " 16  SA1_MAINCODE_2011  18504 non-null  float64\n",
            " 17  SA1_MAINCODE_2016  18504 non-null  float64\n",
            " 18  SA2_MAINCODE_2016  18504 non-null  float64\n",
            " 19  SA2_NAME_2016      18504 non-null  object \n",
            " 20  SA3_CODE_2016      18504 non-null  float64\n",
            " 21  SA3_NAME_2016      18504 non-null  object \n",
            " 22  SA4_CODE_2016      18504 non-null  float64\n",
            " 23  SA4_NAME_2016      18504 non-null  object \n",
            " 24  RA_2011            18504 non-null  float64\n",
            " 25  RA_2016            18504 non-null  float64\n",
            " 26  MMM_2015           18504 non-null  float64\n",
            " 27  MMM_2019           18504 non-null  float64\n",
            " 28  ced                17711 non-null  object \n",
            " 29  altitude           12191 non-null  float64\n",
            " 30  chargezone         18421 non-null  object \n",
            " 31  phn_code           18200 non-null  object \n",
            " 32  phn_name           17865 non-null  object \n",
            " 33  lgaregion          18512 non-null  object \n",
            " 34  lgacode            18507 non-null  float64\n",
            " 35  electorate         18430 non-null  object \n",
            " 36  electoraterating   16929 non-null  object \n",
            "dtypes: float64(17), int64(2), object(18)\n",
            "memory usage: 5.2+ MB\n"
          ]
        }
      ]
    },
    {
      "cell_type": "code",
      "source": [
        "df = df_students.rename(columns={\"state\": \"student_state\"})\n"
      ],
      "metadata": {
        "id": "jPZovtroVbX0"
      },
      "execution_count": 119,
      "outputs": []
    },
    {
      "cell_type": "code",
      "source": [
        "df = df.merge(df_australia[['postcode','state']],on='postcode', how='left')"
      ],
      "metadata": {
        "id": "4S65qASVcUR2"
      },
      "execution_count": 120,
      "outputs": []
    },
    {
      "cell_type": "code",
      "source": [
        "df"
      ],
      "metadata": {
        "colab": {
          "base_uri": "https://localhost:8080/",
          "height": 661
        },
        "id": "I4Ve4vMZrf9O",
        "outputId": "62bcc900-fd2d-4d7e-fd02-f5bdb9304a37"
      },
      "execution_count": 121,
      "outputs": [
        {
          "output_type": "execute_result",
          "data": {
            "text/plain": [
              "       given_name  surname  street_number        address_1  \\\n",
              "0        matthwew    apted           18.0  atherton srteet   \n",
              "1        matthwew    apted           18.0  atherton srteet   \n",
              "2         william   badger            NaN    dwyer s treet   \n",
              "3          connor   bailke          186.0     lambie place   \n",
              "4          connor   bailke          186.0     lambie place   \n",
              "...           ...      ...            ...              ...   \n",
              "251119       kobe  tillaer          106.0     stuartstreet   \n",
              "251120       kobe  tillaer          106.0     stuartstreet   \n",
              "251121       kobe  tillaer          106.0     stuartstreet   \n",
              "251122       kobe  tillaer          106.0     stuartstreet   \n",
              "251123       kobe  tillaer          106.0     stuartstreet   \n",
              "\n",
              "                 address_2            suburb  postcode student_state  \\\n",
              "0          currumb in hill    port macquarie      3183           vic   \n",
              "1          currumb in hill    port macquarie      3183           vic   \n",
              "2                  glenlee  west lakes shore      3291           nsw   \n",
              "3                      NaN      port lincoln      7303           qld   \n",
              "4                      NaN      port lincoln      7303           qld   \n",
              "...                    ...               ...       ...           ...   \n",
              "251119  yarrandalne moonee      douglas park      4573            wa   \n",
              "251120  yarrandalne moonee      douglas park      4573            wa   \n",
              "251121  yarrandalne moonee      douglas park      4573            wa   \n",
              "251122  yarrandalne moonee      douglas park      4573            wa   \n",
              "251123  yarrandalne moonee      douglas park      4573            wa   \n",
              "\n",
              "       date_of_birth  soc_sec_id record_ID  birthyear state  \n",
              "0         1959-08-25     9425976       B_0     1959.0   VIC  \n",
              "1         1959-08-25     9425976       B_0     1959.0   VIC  \n",
              "2         1900-12-10     4656608       B_1     1900.0   NaN  \n",
              "3         1967-05-29     4702335       B_2     1967.0   TAS  \n",
              "4         1967-05-29     4702335       B_2     1967.0   TAS  \n",
              "...              ...         ...       ...        ...   ...  \n",
              "251119    1930-08-31     2715828   B_24939     1930.0   QLD  \n",
              "251120    1930-08-31     2715828   B_24939     1930.0   QLD  \n",
              "251121    1930-08-31     2715828   B_24939     1930.0   QLD  \n",
              "251122    1930-08-31     2715828   B_24939     1930.0   QLD  \n",
              "251123    1930-08-31     2715828   B_24939     1930.0   QLD  \n",
              "\n",
              "[251124 rows x 13 columns]"
            ],
            "text/html": [
              "\n",
              "  <div id=\"df-25df48d4-bf1f-4f0e-a4fc-2eaef76d8f24\">\n",
              "    <div class=\"colab-df-container\">\n",
              "      <div>\n",
              "<style scoped>\n",
              "    .dataframe tbody tr th:only-of-type {\n",
              "        vertical-align: middle;\n",
              "    }\n",
              "\n",
              "    .dataframe tbody tr th {\n",
              "        vertical-align: top;\n",
              "    }\n",
              "\n",
              "    .dataframe thead th {\n",
              "        text-align: right;\n",
              "    }\n",
              "</style>\n",
              "<table border=\"1\" class=\"dataframe\">\n",
              "  <thead>\n",
              "    <tr style=\"text-align: right;\">\n",
              "      <th></th>\n",
              "      <th>given_name</th>\n",
              "      <th>surname</th>\n",
              "      <th>street_number</th>\n",
              "      <th>address_1</th>\n",
              "      <th>address_2</th>\n",
              "      <th>suburb</th>\n",
              "      <th>postcode</th>\n",
              "      <th>student_state</th>\n",
              "      <th>date_of_birth</th>\n",
              "      <th>soc_sec_id</th>\n",
              "      <th>record_ID</th>\n",
              "      <th>birthyear</th>\n",
              "      <th>state</th>\n",
              "    </tr>\n",
              "  </thead>\n",
              "  <tbody>\n",
              "    <tr>\n",
              "      <th>0</th>\n",
              "      <td>matthwew</td>\n",
              "      <td>apted</td>\n",
              "      <td>18.0</td>\n",
              "      <td>atherton srteet</td>\n",
              "      <td>currumb in hill</td>\n",
              "      <td>port macquarie</td>\n",
              "      <td>3183</td>\n",
              "      <td>vic</td>\n",
              "      <td>1959-08-25</td>\n",
              "      <td>9425976</td>\n",
              "      <td>B_0</td>\n",
              "      <td>1959.0</td>\n",
              "      <td>VIC</td>\n",
              "    </tr>\n",
              "    <tr>\n",
              "      <th>1</th>\n",
              "      <td>matthwew</td>\n",
              "      <td>apted</td>\n",
              "      <td>18.0</td>\n",
              "      <td>atherton srteet</td>\n",
              "      <td>currumb in hill</td>\n",
              "      <td>port macquarie</td>\n",
              "      <td>3183</td>\n",
              "      <td>vic</td>\n",
              "      <td>1959-08-25</td>\n",
              "      <td>9425976</td>\n",
              "      <td>B_0</td>\n",
              "      <td>1959.0</td>\n",
              "      <td>VIC</td>\n",
              "    </tr>\n",
              "    <tr>\n",
              "      <th>2</th>\n",
              "      <td>william</td>\n",
              "      <td>badger</td>\n",
              "      <td>NaN</td>\n",
              "      <td>dwyer s treet</td>\n",
              "      <td>glenlee</td>\n",
              "      <td>west lakes shore</td>\n",
              "      <td>3291</td>\n",
              "      <td>nsw</td>\n",
              "      <td>1900-12-10</td>\n",
              "      <td>4656608</td>\n",
              "      <td>B_1</td>\n",
              "      <td>1900.0</td>\n",
              "      <td>NaN</td>\n",
              "    </tr>\n",
              "    <tr>\n",
              "      <th>3</th>\n",
              "      <td>connor</td>\n",
              "      <td>bailke</td>\n",
              "      <td>186.0</td>\n",
              "      <td>lambie place</td>\n",
              "      <td>NaN</td>\n",
              "      <td>port lincoln</td>\n",
              "      <td>7303</td>\n",
              "      <td>qld</td>\n",
              "      <td>1967-05-29</td>\n",
              "      <td>4702335</td>\n",
              "      <td>B_2</td>\n",
              "      <td>1967.0</td>\n",
              "      <td>TAS</td>\n",
              "    </tr>\n",
              "    <tr>\n",
              "      <th>4</th>\n",
              "      <td>connor</td>\n",
              "      <td>bailke</td>\n",
              "      <td>186.0</td>\n",
              "      <td>lambie place</td>\n",
              "      <td>NaN</td>\n",
              "      <td>port lincoln</td>\n",
              "      <td>7303</td>\n",
              "      <td>qld</td>\n",
              "      <td>1967-05-29</td>\n",
              "      <td>4702335</td>\n",
              "      <td>B_2</td>\n",
              "      <td>1967.0</td>\n",
              "      <td>TAS</td>\n",
              "    </tr>\n",
              "    <tr>\n",
              "      <th>...</th>\n",
              "      <td>...</td>\n",
              "      <td>...</td>\n",
              "      <td>...</td>\n",
              "      <td>...</td>\n",
              "      <td>...</td>\n",
              "      <td>...</td>\n",
              "      <td>...</td>\n",
              "      <td>...</td>\n",
              "      <td>...</td>\n",
              "      <td>...</td>\n",
              "      <td>...</td>\n",
              "      <td>...</td>\n",
              "      <td>...</td>\n",
              "    </tr>\n",
              "    <tr>\n",
              "      <th>251119</th>\n",
              "      <td>kobe</td>\n",
              "      <td>tillaer</td>\n",
              "      <td>106.0</td>\n",
              "      <td>stuartstreet</td>\n",
              "      <td>yarrandalne moonee</td>\n",
              "      <td>douglas park</td>\n",
              "      <td>4573</td>\n",
              "      <td>wa</td>\n",
              "      <td>1930-08-31</td>\n",
              "      <td>2715828</td>\n",
              "      <td>B_24939</td>\n",
              "      <td>1930.0</td>\n",
              "      <td>QLD</td>\n",
              "    </tr>\n",
              "    <tr>\n",
              "      <th>251120</th>\n",
              "      <td>kobe</td>\n",
              "      <td>tillaer</td>\n",
              "      <td>106.0</td>\n",
              "      <td>stuartstreet</td>\n",
              "      <td>yarrandalne moonee</td>\n",
              "      <td>douglas park</td>\n",
              "      <td>4573</td>\n",
              "      <td>wa</td>\n",
              "      <td>1930-08-31</td>\n",
              "      <td>2715828</td>\n",
              "      <td>B_24939</td>\n",
              "      <td>1930.0</td>\n",
              "      <td>QLD</td>\n",
              "    </tr>\n",
              "    <tr>\n",
              "      <th>251121</th>\n",
              "      <td>kobe</td>\n",
              "      <td>tillaer</td>\n",
              "      <td>106.0</td>\n",
              "      <td>stuartstreet</td>\n",
              "      <td>yarrandalne moonee</td>\n",
              "      <td>douglas park</td>\n",
              "      <td>4573</td>\n",
              "      <td>wa</td>\n",
              "      <td>1930-08-31</td>\n",
              "      <td>2715828</td>\n",
              "      <td>B_24939</td>\n",
              "      <td>1930.0</td>\n",
              "      <td>QLD</td>\n",
              "    </tr>\n",
              "    <tr>\n",
              "      <th>251122</th>\n",
              "      <td>kobe</td>\n",
              "      <td>tillaer</td>\n",
              "      <td>106.0</td>\n",
              "      <td>stuartstreet</td>\n",
              "      <td>yarrandalne moonee</td>\n",
              "      <td>douglas park</td>\n",
              "      <td>4573</td>\n",
              "      <td>wa</td>\n",
              "      <td>1930-08-31</td>\n",
              "      <td>2715828</td>\n",
              "      <td>B_24939</td>\n",
              "      <td>1930.0</td>\n",
              "      <td>QLD</td>\n",
              "    </tr>\n",
              "    <tr>\n",
              "      <th>251123</th>\n",
              "      <td>kobe</td>\n",
              "      <td>tillaer</td>\n",
              "      <td>106.0</td>\n",
              "      <td>stuartstreet</td>\n",
              "      <td>yarrandalne moonee</td>\n",
              "      <td>douglas park</td>\n",
              "      <td>4573</td>\n",
              "      <td>wa</td>\n",
              "      <td>1930-08-31</td>\n",
              "      <td>2715828</td>\n",
              "      <td>B_24939</td>\n",
              "      <td>1930.0</td>\n",
              "      <td>QLD</td>\n",
              "    </tr>\n",
              "  </tbody>\n",
              "</table>\n",
              "<p>251124 rows × 13 columns</p>\n",
              "</div>\n",
              "      <button class=\"colab-df-convert\" onclick=\"convertToInteractive('df-25df48d4-bf1f-4f0e-a4fc-2eaef76d8f24')\"\n",
              "              title=\"Convert this dataframe to an interactive table.\"\n",
              "              style=\"display:none;\">\n",
              "        \n",
              "  <svg xmlns=\"http://www.w3.org/2000/svg\" height=\"24px\"viewBox=\"0 0 24 24\"\n",
              "       width=\"24px\">\n",
              "    <path d=\"M0 0h24v24H0V0z\" fill=\"none\"/>\n",
              "    <path d=\"M18.56 5.44l.94 2.06.94-2.06 2.06-.94-2.06-.94-.94-2.06-.94 2.06-2.06.94zm-11 1L8.5 8.5l.94-2.06 2.06-.94-2.06-.94L8.5 2.5l-.94 2.06-2.06.94zm10 10l.94 2.06.94-2.06 2.06-.94-2.06-.94-.94-2.06-.94 2.06-2.06.94z\"/><path d=\"M17.41 7.96l-1.37-1.37c-.4-.4-.92-.59-1.43-.59-.52 0-1.04.2-1.43.59L10.3 9.45l-7.72 7.72c-.78.78-.78 2.05 0 2.83L4 21.41c.39.39.9.59 1.41.59.51 0 1.02-.2 1.41-.59l7.78-7.78 2.81-2.81c.8-.78.8-2.07 0-2.86zM5.41 20L4 18.59l7.72-7.72 1.47 1.35L5.41 20z\"/>\n",
              "  </svg>\n",
              "      </button>\n",
              "      \n",
              "  <style>\n",
              "    .colab-df-container {\n",
              "      display:flex;\n",
              "      flex-wrap:wrap;\n",
              "      gap: 12px;\n",
              "    }\n",
              "\n",
              "    .colab-df-convert {\n",
              "      background-color: #E8F0FE;\n",
              "      border: none;\n",
              "      border-radius: 50%;\n",
              "      cursor: pointer;\n",
              "      display: none;\n",
              "      fill: #1967D2;\n",
              "      height: 32px;\n",
              "      padding: 0 0 0 0;\n",
              "      width: 32px;\n",
              "    }\n",
              "\n",
              "    .colab-df-convert:hover {\n",
              "      background-color: #E2EBFA;\n",
              "      box-shadow: 0px 1px 2px rgba(60, 64, 67, 0.3), 0px 1px 3px 1px rgba(60, 64, 67, 0.15);\n",
              "      fill: #174EA6;\n",
              "    }\n",
              "\n",
              "    [theme=dark] .colab-df-convert {\n",
              "      background-color: #3B4455;\n",
              "      fill: #D2E3FC;\n",
              "    }\n",
              "\n",
              "    [theme=dark] .colab-df-convert:hover {\n",
              "      background-color: #434B5C;\n",
              "      box-shadow: 0px 1px 3px 1px rgba(0, 0, 0, 0.15);\n",
              "      filter: drop-shadow(0px 1px 2px rgba(0, 0, 0, 0.3));\n",
              "      fill: #FFFFFF;\n",
              "    }\n",
              "  </style>\n",
              "\n",
              "      <script>\n",
              "        const buttonEl =\n",
              "          document.querySelector('#df-25df48d4-bf1f-4f0e-a4fc-2eaef76d8f24 button.colab-df-convert');\n",
              "        buttonEl.style.display =\n",
              "          google.colab.kernel.accessAllowed ? 'block' : 'none';\n",
              "\n",
              "        async function convertToInteractive(key) {\n",
              "          const element = document.querySelector('#df-25df48d4-bf1f-4f0e-a4fc-2eaef76d8f24');\n",
              "          const dataTable =\n",
              "            await google.colab.kernel.invokeFunction('convertToInteractive',\n",
              "                                                     [key], {});\n",
              "          if (!dataTable) return;\n",
              "\n",
              "          const docLinkHtml = 'Like what you see? Visit the ' +\n",
              "            '<a target=\"_blank\" href=https://colab.research.google.com/notebooks/data_table.ipynb>data table notebook</a>'\n",
              "            + ' to learn more about interactive tables.';\n",
              "          element.innerHTML = '';\n",
              "          dataTable['output_type'] = 'display_data';\n",
              "          await google.colab.output.renderOutput(dataTable, element);\n",
              "          const docLink = document.createElement('div');\n",
              "          docLink.innerHTML = docLinkHtml;\n",
              "          element.appendChild(docLink);\n",
              "        }\n",
              "      </script>\n",
              "    </div>\n",
              "  </div>\n",
              "  "
            ]
          },
          "metadata": {},
          "execution_count": 121
        }
      ]
    },
    {
      "cell_type": "code",
      "source": [
        "df = df.drop_duplicates(subset=['record_ID'])"
      ],
      "metadata": {
        "id": "d9hlPcUgYyoD"
      },
      "execution_count": 122,
      "outputs": []
    },
    {
      "cell_type": "code",
      "source": [
        "len(df[df['state'].isna()]['state'])"
      ],
      "metadata": {
        "colab": {
          "base_uri": "https://localhost:8080/",
          "height": 0
        },
        "id": "fMOJWn_pvPpu",
        "outputId": "83ec044c-04c7-4e5e-c382-6393d3d63f86"
      },
      "execution_count": 123,
      "outputs": [
        {
          "output_type": "execute_result",
          "data": {
            "text/plain": [
              "1071"
            ]
          },
          "metadata": {},
          "execution_count": 123
        }
      ]
    },
    {
      "cell_type": "code",
      "source": [
        "df['state'] = df['state'].fillna(df['student_state'])\n"
      ],
      "metadata": {
        "colab": {
          "base_uri": "https://localhost:8080/",
          "height": 0
        },
        "id": "2jTMcnU5se31",
        "outputId": "98bfb701-300b-4991-8243-3d2487f3c0f3"
      },
      "execution_count": 124,
      "outputs": [
        {
          "output_type": "stream",
          "name": "stderr",
          "text": [
            "<ipython-input-124-8cae9f288354>:1: SettingWithCopyWarning: \n",
            "A value is trying to be set on a copy of a slice from a DataFrame.\n",
            "Try using .loc[row_indexer,col_indexer] = value instead\n",
            "\n",
            "See the caveats in the documentation: https://pandas.pydata.org/pandas-docs/stable/user_guide/indexing.html#returning-a-view-versus-a-copy\n",
            "  df['state'] = df['state'].fillna(df['student_state'])\n"
          ]
        }
      ]
    },
    {
      "cell_type": "code",
      "source": [
        "len(df[df['state'].isna()]['state'])"
      ],
      "metadata": {
        "colab": {
          "base_uri": "https://localhost:8080/",
          "height": 0
        },
        "id": "T9WB2W-ZvYbW",
        "outputId": "bcdfcf3a-ba4a-4e6b-b41e-7eece04b7dca"
      },
      "execution_count": 125,
      "outputs": [
        {
          "output_type": "execute_result",
          "data": {
            "text/plain": [
              "14"
            ]
          },
          "metadata": {},
          "execution_count": 125
        }
      ]
    },
    {
      "cell_type": "code",
      "source": [
        "df = df.dropna(subset=['state'])"
      ],
      "metadata": {
        "id": "b3IT-TdByrlB"
      },
      "execution_count": 126,
      "outputs": []
    },
    {
      "cell_type": "code",
      "source": [
        "len(df.state.unique())"
      ],
      "metadata": {
        "colab": {
          "base_uri": "https://localhost:8080/",
          "height": 0
        },
        "id": "oox2X4HSeemR",
        "outputId": "c266a26d-a547-4a93-c857-c285d3cfa0c4"
      },
      "execution_count": 127,
      "outputs": [
        {
          "output_type": "execute_result",
          "data": {
            "text/plain": [
              "40"
            ]
          },
          "metadata": {},
          "execution_count": 127
        }
      ]
    },
    {
      "cell_type": "code",
      "source": [
        "df.groupby(\"state\")[\"state\"].count()"
      ],
      "metadata": {
        "colab": {
          "base_uri": "https://localhost:8080/",
          "height": 0
        },
        "id": "0jrXct9YHNei",
        "outputId": "ab91a369-f960-4cf9-92be-7227186b26ce"
      },
      "execution_count": 128,
      "outputs": [
        {
          "output_type": "execute_result",
          "data": {
            "text/plain": [
              "state\n",
              "ACT      361\n",
              "NSW     7994\n",
              "NT       162\n",
              "QLD     4315\n",
              "SA      1910\n",
              "TAS      626\n",
              "VIC     6213\n",
              "WA      2288\n",
              "ac         1\n",
              "act       14\n",
              "cic        1\n",
              "nsj        1\n",
              "nsl        1\n",
              "nsm        1\n",
              "nss        1\n",
              "nst        1\n",
              "nsw      389\n",
              "nswi       1\n",
              "nt        14\n",
              "nw         2\n",
              "nws        8\n",
              "ql         1\n",
              "qld      150\n",
              "qlu        1\n",
              "qnd        1\n",
              "sa        68\n",
              "sk         2\n",
              "sw         2\n",
              "tas       51\n",
              "tfs        1\n",
              "tsw        1\n",
              "vic      260\n",
              "vicb       1\n",
              "vici       1\n",
              "vicw       1\n",
              "vif        1\n",
              "vix        1\n",
              "wa        77\n",
              "wax        1\n",
              "wp         1\n",
              "Name: state, dtype: int64"
            ]
          },
          "metadata": {},
          "execution_count": 128
        }
      ]
    },
    {
      "cell_type": "code",
      "source": [],
      "metadata": {
        "id": "gXRj6hFYz9rQ"
      },
      "execution_count": 128,
      "outputs": []
    },
    {
      "cell_type": "code",
      "source": [
        "len(df_students.date_of_birth.unique())"
      ],
      "metadata": {
        "id": "fYKVzEULmPSK",
        "colab": {
          "base_uri": "https://localhost:8080/",
          "height": 0
        },
        "outputId": "373c140c-9e2c-4c4e-e886-da82963e3b43"
      },
      "execution_count": 129,
      "outputs": [
        {
          "output_type": "execute_result",
          "data": {
            "text/plain": [
              "4653"
            ]
          },
          "metadata": {},
          "execution_count": 129
        }
      ]
    },
    {
      "cell_type": "code",
      "source": [
        "len(df_students.state.unique())"
      ],
      "metadata": {
        "colab": {
          "base_uri": "https://localhost:8080/",
          "height": 0
        },
        "id": "q5-E2ftKUwgV",
        "outputId": "01755f0f-d41d-4e20-e565-609891ab70e9"
      },
      "execution_count": 130,
      "outputs": [
        {
          "output_type": "execute_result",
          "data": {
            "text/plain": [
              "270"
            ]
          },
          "metadata": {},
          "execution_count": 130
        }
      ]
    },
    {
      "cell_type": "code",
      "source": [
        "df_students.groupby(\"postcode\")[\"postcode\"].count()"
      ],
      "metadata": {
        "colab": {
          "base_uri": "https://localhost:8080/",
          "height": 0
        },
        "id": "WnA4bIrI4p9z",
        "outputId": "fc0f8ffd-a899-4439-a5fe-cae15254780d"
      },
      "execution_count": 131,
      "outputs": [
        {
          "output_type": "execute_result",
          "data": {
            "text/plain": [
              "postcode\n",
              "216     6\n",
              "237     2\n",
              "276     4\n",
              "278     1\n",
              "280     8\n",
              "       ..\n",
              "8235    2\n",
              "9205    3\n",
              "9207    1\n",
              "9316    5\n",
              "9319    2\n",
              "Name: postcode, Length: 1796, dtype: int64"
            ]
          },
          "metadata": {},
          "execution_count": 131
        }
      ]
    },
    {
      "cell_type": "markdown",
      "metadata": {
        "id": "Ma0L5Kswr26b"
      },
      "source": [
        "# Blocking method\n",
        "An important decision for the blocking method is the choice of a good partitioning predicate, which determines the number and the size of the partitions. It should be chosen in a manner that potential duplicates are grouped in the same partition\n",
        "\n",
        "\n",
        "---\n",
        "\n",
        "\n",
        "The code below does this for us. In doing so, it uses the following rule:\n",
        "\n",
        "*   we devided the dataset by states and the by year of birth\n",
        "*   The edit distance between the attribute surname values of the two records needs to be smaller or equal to 2 (or given_name in case surname is null), and\n",
        "they need to have the same value for the social security number.\n",
        "\n",
        "\n",
        "For two records to match, i.e. refer to the same student in the real world:\n",
        "\n",
        "The edit distance between the attribute name values of the two records needs to be smaller or equal to 2, and\n",
        "they need to have the same value for the social security number.\n",
        "Same name, zip code and social security number"
      ]
    },
    {
      "cell_type": "code",
      "source": [
        "df['state'] = df['state'].astype(str)"
      ],
      "metadata": {
        "id": "XIzxQY_Pqo3u"
      },
      "execution_count": 132,
      "outputs": []
    },
    {
      "cell_type": "code",
      "source": [
        "ACT = ['ACT', 'ac', 'act']\n",
        "NSW = ['NSW', 'nsw','nswi','nsj','nws','tsw' ]\n",
        "NT = ['NT', 'nt', 'nw']\n",
        "QLD =['QLD', 'qld', 'qnd', 'ql', 'qlu']\n",
        "SA = ['sa','sk','SA']\n",
        "TAS = ['TAS','tas','tfs','tsw']\n",
        "VIC = ['VIC','vic','vicb', 'vici', 'vif', 'vix','cic']\n",
        "WA = ['WA', 'wa', 'wax', 'wp']\n"
      ],
      "metadata": {
        "id": "zN3_JwhjyVhH"
      },
      "execution_count": 133,
      "outputs": []
    },
    {
      "cell_type": "code",
      "source": [
        "df.birthyear.describe()"
      ],
      "metadata": {
        "colab": {
          "base_uri": "https://localhost:8080/",
          "height": 0
        },
        "id": "L6M8UHx1GjoK",
        "outputId": "bf521ce6-5392-4ca1-ec2b-54d10295d984"
      },
      "execution_count": 134,
      "outputs": [
        {
          "output_type": "execute_result",
          "data": {
            "text/plain": [
              "count    24926.000000\n",
              "mean      1948.673714\n",
              "std         28.198943\n",
              "min       1900.000000\n",
              "25%       1925.000000\n",
              "50%       1949.000000\n",
              "75%       1972.000000\n",
              "max       1999.000000\n",
              "Name: birthyear, dtype: float64"
            ]
          },
          "metadata": {},
          "execution_count": 134
        }
      ]
    },
    {
      "cell_type": "code",
      "source": [],
      "metadata": {
        "id": "Fg1N9hyIGuPE"
      },
      "execution_count": 134,
      "outputs": []
    },
    {
      "cell_type": "code",
      "source": [
        "blocks = []\n",
        "block_1 = df[df['state'].str.contains('|'.join(ACT))].sort_values(by=\"birthyear\")\n",
        "block_1_1 = block_1[block_1['birthyear']<=1925]\n",
        "block_1_2 = block_1[(block_1['birthyear']<=1950) & (block_1['birthyear']>1925)]\n",
        "block_1_3 = block_1[(block_1['birthyear']<=1975) & (block_1['birthyear']>1950)]\n",
        "block_1_4 = block_1[(block_1['birthyear']<=2000) & (block_1['birthyear']>1975)]\n",
        "\n",
        "block_2 = df[df['state'].str.contains('|'.join(NSW))].sort_values(by=\"birthyear\")\n",
        "block_2_1 = block_2[block_2['birthyear']<=1925]\n",
        "block_2_2 = block_2[(block_2['birthyear']<=1950) & (block_2['birthyear']>1925)]\n",
        "block_2_3 = block_2[(block_2['birthyear']<=1975) & (block_2['birthyear']>1950)]\n",
        "block_2_4 = block_2[(block_2['birthyear']<=2000) & (block_2['birthyear']>1975)]\n",
        "\n",
        "block_3 = df[df['state'].str.contains('|'.join(NT))].sort_values(by=\"birthyear\")\n",
        "block_3_1 = block_3[block_3['birthyear']<=1925]\n",
        "block_3_2 = block_3[(block_3['birthyear']<=1950) & (block_3['birthyear']>1925)]\n",
        "block_3_3 = block_3[(block_3['birthyear']<=1975) & (block_3['birthyear']>1950)]\n",
        "block_3_4 = block_3[(block_3['birthyear']<=2000) & (block_3['birthyear']>1975)]\n",
        "\n",
        "block_4 = df[df['state'].str.contains('|'.join(QLD))].sort_values(by=\"birthyear\")\n",
        "block_4_1 = block_4[block_4['birthyear']<=1925]\n",
        "block_4_2 = block_4[(block_4['birthyear']<=1950) & (block_4['birthyear']>1925)]\n",
        "block_4_3 = block_4[(block_4['birthyear']<=1975) & (block_4['birthyear']>1950)]\n",
        "block_4_4 = block_4[(block_4['birthyear']<=2000) & (block_4['birthyear']>1975)]\n",
        "\n",
        "block_5 = df[df['state'].str.contains('|'.join(SA))].sort_values(by=\"birthyear\")\n",
        "block_5_1 = block_5[block_5['birthyear']<=1925]\n",
        "block_5_2 = block_5[(block_5['birthyear']<=1950) & (block_5['birthyear']>1925)]\n",
        "block_5_3 = block_5[(block_5['birthyear']<=1975) & (block_5['birthyear']>1950)]\n",
        "block_5_4 = block_5[(block_5['birthyear']<=2000) & (block_5['birthyear']>1975)]\n",
        "\n",
        "block_6 = df[df['state'].str.contains('|'.join(TAS))].sort_values(by=\"birthyear\")\n",
        "block_6_1 = block_6[block_6['birthyear']<=1925]\n",
        "block_6_2 = block_6[(block_6['birthyear']<=1950) & (block_6['birthyear']>1925)]\n",
        "block_6_3 = block_6[(block_6['birthyear']<=1975) & (block_6['birthyear']>1950)]\n",
        "block_6_4 = block_6[(block_6['birthyear']<=2000) & (block_6['birthyear']>1975)]\n",
        "\n",
        "block_7 = df[df['state'].str.contains('|'.join(VIC))].sort_values(by=\"birthyear\")\n",
        "block_7_1 = block_7[block_7['birthyear']<=1925]\n",
        "block_7_2 = block_7[(block_7['birthyear']<=1950) & (block_7['birthyear']>1925)]\n",
        "block_7_3 = block_7[(block_7['birthyear']<=1975) & (block_7['birthyear']>1950)]\n",
        "block_7_4 = block_7[(block_7['birthyear']<=2000) & (block_7['birthyear']>1975)]\n",
        "\n",
        "block_8 = df[df['state'].str.contains('|'.join(WA))].sort_values(by=\"birthyear\")\n",
        "block_8_1 = block_8[block_8['birthyear']<=1925]\n",
        "block_8_2 = block_8[(block_8['birthyear']<=1950) & (block_8['birthyear']>1925)]\n",
        "block_8_3 = block_8[(block_8['birthyear']<=1975) & (block_8['birthyear']>1950)]\n",
        "block_8_4 = block_8[(block_8['birthyear']<=2000) & (block_8['birthyear']>1975)]\n",
        "\n",
        "blocks.append(block_1_1)\n",
        "blocks.append(block_1_2) \n",
        "blocks.append(block_1_3) \n",
        "blocks.append(block_1_4) \n",
        "\n",
        "blocks.append(block_2_1)\n",
        "blocks.append(block_2_2)\n",
        "blocks.append(block_2_3)\n",
        "blocks.append(block_2_4)\n",
        "\n",
        "blocks.append(block_3_1)\n",
        "blocks.append(block_3_2)\n",
        "blocks.append(block_3_3)\n",
        "blocks.append(block_3_4)\n",
        "\n",
        "\n",
        "blocks.append(block_4_1)\n",
        "blocks.append(block_4_2)\n",
        "blocks.append(block_4_3)\n",
        "blocks.append(block_4_4)\n",
        "\n",
        "\n",
        "blocks.append(block_5_1)\n",
        "blocks.append(block_5_2)\n",
        "blocks.append(block_5_3)\n",
        "blocks.append(block_5_4)\n",
        "\n",
        "blocks.append(block_6_1)\n",
        "blocks.append(block_6_2)\n",
        "blocks.append(block_6_3)\n",
        "blocks.append(block_6_4)\n",
        "\n",
        "blocks.append(block_7_1)\n",
        "blocks.append(block_7_2)\n",
        "blocks.append(block_7_3)\n",
        "blocks.append(block_7_4)\n",
        "\n",
        "blocks.append(block_8_1)\n",
        "blocks.append(block_8_2)\n",
        "blocks.append(block_8_3)\n",
        "blocks.append(block_8_4)"
      ],
      "metadata": {
        "id": "1jhnugYr5FOl"
      },
      "execution_count": 135,
      "outputs": []
    },
    {
      "cell_type": "code",
      "source": [
        "len(df[df['surname'].isna()]['surname'])"
      ],
      "metadata": {
        "colab": {
          "base_uri": "https://localhost:8080/",
          "height": 0
        },
        "id": "9So0Shc_GyiJ",
        "outputId": "4f464e63-fee3-45cd-cc22-9d32b1d48d54"
      },
      "execution_count": 136,
      "outputs": [
        {
          "output_type": "execute_result",
          "data": {
            "text/plain": [
              "528"
            ]
          },
          "metadata": {},
          "execution_count": 136
        }
      ]
    },
    {
      "cell_type": "code",
      "source": [
        "len(block_1)+len(block_2)+len(block_3)+len(block_4)+len(block_5)+len(block_6)+len(block_7)+len(block_8)"
      ],
      "metadata": {
        "colab": {
          "base_uri": "https://localhost:8080/",
          "height": 0
        },
        "id": "5uUHrx1413yu",
        "outputId": "77ffd0f5-dd0c-4b5e-c4b9-d782309ebca0"
      },
      "execution_count": 137,
      "outputs": [
        {
          "output_type": "execute_result",
          "data": {
            "text/plain": [
              "24929"
            ]
          },
          "metadata": {},
          "execution_count": 137
        }
      ]
    },
    {
      "cell_type": "code",
      "source": [
        "df.head(10)"
      ],
      "metadata": {
        "colab": {
          "base_uri": "https://localhost:8080/",
          "height": 514
        },
        "id": "c2LKZitD_kzX",
        "outputId": "e5bfbe7e-8801-4115-842c-33ee03d1b857"
      },
      "execution_count": 138,
      "outputs": [
        {
          "output_type": "execute_result",
          "data": {
            "text/plain": [
              "   given_name      surname  street_number         address_1  \\\n",
              "0    matthwew        apted           18.0   atherton srteet   \n",
              "2     william       badger            NaN     dwyer s treet   \n",
              "3      connor       bailke          186.0      lambie place   \n",
              "10    kaitlin  goldsworthy           54.0               NaN   \n",
              "13     jasmyn         lowe           48.0      toohey place   \n",
              "16     joshua      coleman           16.0      mosman place   \n",
              "17      calbe     newberry           14.0   mackenziestreet   \n",
              "36     beloma      griersn           27.0    priddle street   \n",
              "40     robbie      carmody           34.0  bernacchi street   \n",
              "52        NaN       tholrn           66.0       keithstreet   \n",
              "\n",
              "                       address_2            suburb  postcode student_state  \\\n",
              "0                currumb in hill    port macquarie      3183           vic   \n",
              "2                        glenlee  west lakes shore      3291           nsw   \n",
              "3                            NaN      port lincoln      7303           qld   \n",
              "10                           NaN          thirroul      2035           nsw   \n",
              "13                 grand ecntral            bicton      3085           nsw   \n",
              "16                        aarlee           koouong      3432           nsw   \n",
              "17  mountainview retirement vlge           emerald      2560            sa   \n",
              "36                  green lagoon    christiesbeach      3152           vic   \n",
              "40                        melita    east fremantle      2170           qld   \n",
              "52            ocean sta r villas         beenleigh      6107           vic   \n",
              "\n",
              "   date_of_birth  soc_sec_id record_ID  birthyear state  \n",
              "0     1959-08-25     9425976       B_0     1959.0   VIC  \n",
              "2     1900-12-10     4656608       B_1     1900.0   nsw  \n",
              "3     1967-05-29     4702335       B_2     1967.0   TAS  \n",
              "10    1964-05-17     9127277       B_3     1964.0   NSW  \n",
              "13    1932-09-18     1430128       B_4     1932.0   VIC  \n",
              "16    1950-10-24     2640319       B_5     1950.0   VIC  \n",
              "17    1921-12-03     1454125       B_6     1921.0   NSW  \n",
              "36    1931-06-23     5872915       B_7     1931.0   VIC  \n",
              "40    1939-12-11     8441818       B_8     1939.0   NSW  \n",
              "52    1955-07-03     6047972       B_9     1955.0    WA  "
            ],
            "text/html": [
              "\n",
              "  <div id=\"df-9ae9e3af-1912-4cf1-9ccb-f7b0ff5f02ae\">\n",
              "    <div class=\"colab-df-container\">\n",
              "      <div>\n",
              "<style scoped>\n",
              "    .dataframe tbody tr th:only-of-type {\n",
              "        vertical-align: middle;\n",
              "    }\n",
              "\n",
              "    .dataframe tbody tr th {\n",
              "        vertical-align: top;\n",
              "    }\n",
              "\n",
              "    .dataframe thead th {\n",
              "        text-align: right;\n",
              "    }\n",
              "</style>\n",
              "<table border=\"1\" class=\"dataframe\">\n",
              "  <thead>\n",
              "    <tr style=\"text-align: right;\">\n",
              "      <th></th>\n",
              "      <th>given_name</th>\n",
              "      <th>surname</th>\n",
              "      <th>street_number</th>\n",
              "      <th>address_1</th>\n",
              "      <th>address_2</th>\n",
              "      <th>suburb</th>\n",
              "      <th>postcode</th>\n",
              "      <th>student_state</th>\n",
              "      <th>date_of_birth</th>\n",
              "      <th>soc_sec_id</th>\n",
              "      <th>record_ID</th>\n",
              "      <th>birthyear</th>\n",
              "      <th>state</th>\n",
              "    </tr>\n",
              "  </thead>\n",
              "  <tbody>\n",
              "    <tr>\n",
              "      <th>0</th>\n",
              "      <td>matthwew</td>\n",
              "      <td>apted</td>\n",
              "      <td>18.0</td>\n",
              "      <td>atherton srteet</td>\n",
              "      <td>currumb in hill</td>\n",
              "      <td>port macquarie</td>\n",
              "      <td>3183</td>\n",
              "      <td>vic</td>\n",
              "      <td>1959-08-25</td>\n",
              "      <td>9425976</td>\n",
              "      <td>B_0</td>\n",
              "      <td>1959.0</td>\n",
              "      <td>VIC</td>\n",
              "    </tr>\n",
              "    <tr>\n",
              "      <th>2</th>\n",
              "      <td>william</td>\n",
              "      <td>badger</td>\n",
              "      <td>NaN</td>\n",
              "      <td>dwyer s treet</td>\n",
              "      <td>glenlee</td>\n",
              "      <td>west lakes shore</td>\n",
              "      <td>3291</td>\n",
              "      <td>nsw</td>\n",
              "      <td>1900-12-10</td>\n",
              "      <td>4656608</td>\n",
              "      <td>B_1</td>\n",
              "      <td>1900.0</td>\n",
              "      <td>nsw</td>\n",
              "    </tr>\n",
              "    <tr>\n",
              "      <th>3</th>\n",
              "      <td>connor</td>\n",
              "      <td>bailke</td>\n",
              "      <td>186.0</td>\n",
              "      <td>lambie place</td>\n",
              "      <td>NaN</td>\n",
              "      <td>port lincoln</td>\n",
              "      <td>7303</td>\n",
              "      <td>qld</td>\n",
              "      <td>1967-05-29</td>\n",
              "      <td>4702335</td>\n",
              "      <td>B_2</td>\n",
              "      <td>1967.0</td>\n",
              "      <td>TAS</td>\n",
              "    </tr>\n",
              "    <tr>\n",
              "      <th>10</th>\n",
              "      <td>kaitlin</td>\n",
              "      <td>goldsworthy</td>\n",
              "      <td>54.0</td>\n",
              "      <td>NaN</td>\n",
              "      <td>NaN</td>\n",
              "      <td>thirroul</td>\n",
              "      <td>2035</td>\n",
              "      <td>nsw</td>\n",
              "      <td>1964-05-17</td>\n",
              "      <td>9127277</td>\n",
              "      <td>B_3</td>\n",
              "      <td>1964.0</td>\n",
              "      <td>NSW</td>\n",
              "    </tr>\n",
              "    <tr>\n",
              "      <th>13</th>\n",
              "      <td>jasmyn</td>\n",
              "      <td>lowe</td>\n",
              "      <td>48.0</td>\n",
              "      <td>toohey place</td>\n",
              "      <td>grand ecntral</td>\n",
              "      <td>bicton</td>\n",
              "      <td>3085</td>\n",
              "      <td>nsw</td>\n",
              "      <td>1932-09-18</td>\n",
              "      <td>1430128</td>\n",
              "      <td>B_4</td>\n",
              "      <td>1932.0</td>\n",
              "      <td>VIC</td>\n",
              "    </tr>\n",
              "    <tr>\n",
              "      <th>16</th>\n",
              "      <td>joshua</td>\n",
              "      <td>coleman</td>\n",
              "      <td>16.0</td>\n",
              "      <td>mosman place</td>\n",
              "      <td>aarlee</td>\n",
              "      <td>koouong</td>\n",
              "      <td>3432</td>\n",
              "      <td>nsw</td>\n",
              "      <td>1950-10-24</td>\n",
              "      <td>2640319</td>\n",
              "      <td>B_5</td>\n",
              "      <td>1950.0</td>\n",
              "      <td>VIC</td>\n",
              "    </tr>\n",
              "    <tr>\n",
              "      <th>17</th>\n",
              "      <td>calbe</td>\n",
              "      <td>newberry</td>\n",
              "      <td>14.0</td>\n",
              "      <td>mackenziestreet</td>\n",
              "      <td>mountainview retirement vlge</td>\n",
              "      <td>emerald</td>\n",
              "      <td>2560</td>\n",
              "      <td>sa</td>\n",
              "      <td>1921-12-03</td>\n",
              "      <td>1454125</td>\n",
              "      <td>B_6</td>\n",
              "      <td>1921.0</td>\n",
              "      <td>NSW</td>\n",
              "    </tr>\n",
              "    <tr>\n",
              "      <th>36</th>\n",
              "      <td>beloma</td>\n",
              "      <td>griersn</td>\n",
              "      <td>27.0</td>\n",
              "      <td>priddle street</td>\n",
              "      <td>green lagoon</td>\n",
              "      <td>christiesbeach</td>\n",
              "      <td>3152</td>\n",
              "      <td>vic</td>\n",
              "      <td>1931-06-23</td>\n",
              "      <td>5872915</td>\n",
              "      <td>B_7</td>\n",
              "      <td>1931.0</td>\n",
              "      <td>VIC</td>\n",
              "    </tr>\n",
              "    <tr>\n",
              "      <th>40</th>\n",
              "      <td>robbie</td>\n",
              "      <td>carmody</td>\n",
              "      <td>34.0</td>\n",
              "      <td>bernacchi street</td>\n",
              "      <td>melita</td>\n",
              "      <td>east fremantle</td>\n",
              "      <td>2170</td>\n",
              "      <td>qld</td>\n",
              "      <td>1939-12-11</td>\n",
              "      <td>8441818</td>\n",
              "      <td>B_8</td>\n",
              "      <td>1939.0</td>\n",
              "      <td>NSW</td>\n",
              "    </tr>\n",
              "    <tr>\n",
              "      <th>52</th>\n",
              "      <td>NaN</td>\n",
              "      <td>tholrn</td>\n",
              "      <td>66.0</td>\n",
              "      <td>keithstreet</td>\n",
              "      <td>ocean sta r villas</td>\n",
              "      <td>beenleigh</td>\n",
              "      <td>6107</td>\n",
              "      <td>vic</td>\n",
              "      <td>1955-07-03</td>\n",
              "      <td>6047972</td>\n",
              "      <td>B_9</td>\n",
              "      <td>1955.0</td>\n",
              "      <td>WA</td>\n",
              "    </tr>\n",
              "  </tbody>\n",
              "</table>\n",
              "</div>\n",
              "      <button class=\"colab-df-convert\" onclick=\"convertToInteractive('df-9ae9e3af-1912-4cf1-9ccb-f7b0ff5f02ae')\"\n",
              "              title=\"Convert this dataframe to an interactive table.\"\n",
              "              style=\"display:none;\">\n",
              "        \n",
              "  <svg xmlns=\"http://www.w3.org/2000/svg\" height=\"24px\"viewBox=\"0 0 24 24\"\n",
              "       width=\"24px\">\n",
              "    <path d=\"M0 0h24v24H0V0z\" fill=\"none\"/>\n",
              "    <path d=\"M18.56 5.44l.94 2.06.94-2.06 2.06-.94-2.06-.94-.94-2.06-.94 2.06-2.06.94zm-11 1L8.5 8.5l.94-2.06 2.06-.94-2.06-.94L8.5 2.5l-.94 2.06-2.06.94zm10 10l.94 2.06.94-2.06 2.06-.94-2.06-.94-.94-2.06-.94 2.06-2.06.94z\"/><path d=\"M17.41 7.96l-1.37-1.37c-.4-.4-.92-.59-1.43-.59-.52 0-1.04.2-1.43.59L10.3 9.45l-7.72 7.72c-.78.78-.78 2.05 0 2.83L4 21.41c.39.39.9.59 1.41.59.51 0 1.02-.2 1.41-.59l7.78-7.78 2.81-2.81c.8-.78.8-2.07 0-2.86zM5.41 20L4 18.59l7.72-7.72 1.47 1.35L5.41 20z\"/>\n",
              "  </svg>\n",
              "      </button>\n",
              "      \n",
              "  <style>\n",
              "    .colab-df-container {\n",
              "      display:flex;\n",
              "      flex-wrap:wrap;\n",
              "      gap: 12px;\n",
              "    }\n",
              "\n",
              "    .colab-df-convert {\n",
              "      background-color: #E8F0FE;\n",
              "      border: none;\n",
              "      border-radius: 50%;\n",
              "      cursor: pointer;\n",
              "      display: none;\n",
              "      fill: #1967D2;\n",
              "      height: 32px;\n",
              "      padding: 0 0 0 0;\n",
              "      width: 32px;\n",
              "    }\n",
              "\n",
              "    .colab-df-convert:hover {\n",
              "      background-color: #E2EBFA;\n",
              "      box-shadow: 0px 1px 2px rgba(60, 64, 67, 0.3), 0px 1px 3px 1px rgba(60, 64, 67, 0.15);\n",
              "      fill: #174EA6;\n",
              "    }\n",
              "\n",
              "    [theme=dark] .colab-df-convert {\n",
              "      background-color: #3B4455;\n",
              "      fill: #D2E3FC;\n",
              "    }\n",
              "\n",
              "    [theme=dark] .colab-df-convert:hover {\n",
              "      background-color: #434B5C;\n",
              "      box-shadow: 0px 1px 3px 1px rgba(0, 0, 0, 0.15);\n",
              "      filter: drop-shadow(0px 1px 2px rgba(0, 0, 0, 0.3));\n",
              "      fill: #FFFFFF;\n",
              "    }\n",
              "  </style>\n",
              "\n",
              "      <script>\n",
              "        const buttonEl =\n",
              "          document.querySelector('#df-9ae9e3af-1912-4cf1-9ccb-f7b0ff5f02ae button.colab-df-convert');\n",
              "        buttonEl.style.display =\n",
              "          google.colab.kernel.accessAllowed ? 'block' : 'none';\n",
              "\n",
              "        async function convertToInteractive(key) {\n",
              "          const element = document.querySelector('#df-9ae9e3af-1912-4cf1-9ccb-f7b0ff5f02ae');\n",
              "          const dataTable =\n",
              "            await google.colab.kernel.invokeFunction('convertToInteractive',\n",
              "                                                     [key], {});\n",
              "          if (!dataTable) return;\n",
              "\n",
              "          const docLinkHtml = 'Like what you see? Visit the ' +\n",
              "            '<a target=\"_blank\" href=https://colab.research.google.com/notebooks/data_table.ipynb>data table notebook</a>'\n",
              "            + ' to learn more about interactive tables.';\n",
              "          element.innerHTML = '';\n",
              "          dataTable['output_type'] = 'display_data';\n",
              "          await google.colab.output.renderOutput(dataTable, element);\n",
              "          const docLink = document.createElement('div');\n",
              "          docLink.innerHTML = docLinkHtml;\n",
              "          element.appendChild(docLink);\n",
              "        }\n",
              "      </script>\n",
              "    </div>\n",
              "  </div>\n",
              "  "
            ]
          },
          "metadata": {},
          "execution_count": 138
        }
      ]
    },
    {
      "cell_type": "markdown",
      "source": [
        "Now that we have the blocks, we have to set rules for finding the matches:\n",
        "-same social security number, date of birth, (surname,name)"
      ],
      "metadata": {
        "id": "WublscSAVoh6"
      }
    },
    {
      "cell_type": "code",
      "source": [
        "num_records = len(df)\n",
        "matches = []\n",
        "number_of_matches = 0\n",
        "start = time.process_time()\n",
        "for block in blocks:\n",
        "    num_records = len(block)\n",
        "    print(\"num_records of the block is {}\".format(num_records))\n",
        "    for i in range(0,num_records):\n",
        "        for j in range(i+1,num_records):\n",
        "          if (not pd.isnull(block.iloc[i,0])) and (not pd.isnull(block.iloc[j,0])):\n",
        "            score = nltk.edit_distance(block.iloc[i,0], block.iloc[j,0])\n",
        "          elif not (pd.isnull(block.iloc[i,1]) or pd.isnull(block.iloc[j,1])):\n",
        "            score = nltk.edit_distance(block.iloc[i,1], block.iloc[j,1])\n",
        "          else:\n",
        "            score= nltk.edit_distance(str(block.iloc[i,6]), str(block.iloc[j,6]))\n",
        "\n",
        "          age_score = nltk.edit_distance(str(block.iloc[i,11]), str(block.iloc[j,11]))\n",
        "          soc_sec_score = nltk.edit_distance(str(block.iloc[i,9]), str(block.iloc[j,9]))\n",
        "          if (soc_sec_score <= 1) and (age_score<= 1) and (score<=1):\n",
        "                number_of_matches = number_of_matches + 1 \n",
        "                matches.append((block.iloc[i,10],block.iloc[j,10]))\n",
        "\n",
        "print(\"Number of matches: {}\".format(number_of_matches))"
      ],
      "metadata": {
        "colab": {
          "base_uri": "https://localhost:8080/",
          "height": 0
        },
        "id": "-usVNthd5FEc",
        "outputId": "d6a59e5a-313c-444a-ea70-7851ad30cc7c"
      },
      "execution_count": 139,
      "outputs": [
        {
          "output_type": "stream",
          "name": "stdout",
          "text": [
            "num_records of the block is 73\n",
            "num_records of the block is 140\n",
            "num_records of the block is 93\n",
            "num_records of the block is 70\n",
            "num_records of the block is 2244\n",
            "num_records of the block is 2358\n",
            "num_records of the block is 2006\n",
            "num_records of the block is 1786\n",
            "num_records of the block is 38\n",
            "num_records of the block is 51\n",
            "num_records of the block is 29\n",
            "num_records of the block is 68\n",
            "num_records of the block is 1152\n",
            "num_records of the block is 1213\n",
            "num_records of the block is 1103\n",
            "num_records of the block is 1000\n",
            "num_records of the block is 482\n",
            "num_records of the block is 625\n",
            "num_records of the block is 425\n",
            "num_records of the block is 448\n",
            "num_records of the block is 167\n",
            "num_records of the block is 190\n",
            "num_records of the block is 147\n",
            "num_records of the block is 175\n",
            "num_records of the block is 1714\n",
            "num_records of the block is 1866\n",
            "num_records of the block is 1467\n",
            "num_records of the block is 1432\n",
            "num_records of the block is 595\n",
            "num_records of the block is 712\n",
            "num_records of the block is 525\n",
            "num_records of the block is 535\n",
            "Number of matches: 59100\n",
            "Processing time: 6797.138772593999\n"
          ]
        }
      ]
    }
  ],
  "metadata": {
    "kernelspec": {
      "display_name": "Python 3",
      "language": "python",
      "name": "python3"
    },
    "language_info": {
      "codemirror_mode": {
        "name": "ipython",
        "version": 3
      },
      "file_extension": ".py",
      "mimetype": "text/x-python",
      "name": "python",
      "nbconvert_exporter": "python",
      "pygments_lexer": "ipython3",
      "version": "3.9.5"
    },
    "colab": {
      "provenance": []
    }
  },
  "nbformat": 4,
  "nbformat_minor": 0
}